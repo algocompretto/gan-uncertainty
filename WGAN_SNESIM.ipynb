{
 "cells": [
  {
   "cell_type": "markdown",
   "id": "c1015d54",
   "metadata": {
    "pycharm": {
     "name": "#%% md\n"
    }
   },
   "source": [
    "# Unconditional sampling from $\\mathbb{G}$"
   ]
  },
  {
   "cell_type": "code",
   "execution_count": 1,
   "id": "b0ce9480",
   "metadata": {
    "pycharm": {
     "name": "#%%\n"
    }
   },
   "outputs": [],
   "source": [
    "import torch\n",
    "import torch.nn as nn\n",
    "from torch.autograd import Variable\n",
    "import torch.optim as optim\n",
    "import numpy as np\n",
    "\n",
    "class Unconditional(object):\n",
    "    def __init__(self, dimension, generator, latent_size, latent_dist, use_cuda=False):\n",
    "        self.use_cuda = use_cuda\n",
    "\n",
    "        self.dimension = dimension\n",
    "        self.generator = generator\n",
    "\n",
    "        if self.use_cuda:\n",
    "            self.generator = self.generator.cuda()\n",
    "\n",
    "        self.latent_size = latent_size\n",
    "        self.latent_dist = latent_dist\n",
    "\n",
    "    def sample_batch(self, batch, m):\n",
    "        config = [batch, self.latent_size]# + m\n",
    "        zhat = None\n",
    "        if self.use_cuda:\n",
    "            zhat = Variable(torch.FloatTensor(*config).cuda(), requires_grad=True)\n",
    "        else:\n",
    "            zhat = Variable(torch.FloatTensor(*config), requires_grad=True)\n",
    "        zhat.retain_grad()\n",
    "        if self.latent_dist == \"normal\":\n",
    "            zhat.data = zhat.data.normal_(0, 1)\n",
    "        elif self.latent_dist == \"uniform\":\n",
    "            zhat.data = zhat.data.uniform_(-1, 1)\n",
    "        return zhat\n",
    "\n",
    "    def create_unconditional_simulations(self, batch, m):\n",
    "        zhat = self.sample_batch(batch, m)\n",
    "        if self.use_cuda:\n",
    "            zhat = zhat.cuda()\n",
    "        try:\n",
    "            xhat = self.generator(zhat)\n",
    "            return xhat.data.cpu().numpy()\n",
    "        except RuntimeError as reError:\n",
    "            print(reError)"
   ]
  },
  {
   "cell_type": "code",
   "execution_count": 2,
   "id": "5288e783",
   "metadata": {
    "collapsed": false,
    "pycharm": {
     "name": "#%%\n"
    }
   },
   "outputs": [
    {
     "data": {
      "text/plain": [
       "<All keys matched successfully>"
      ]
     },
     "execution_count": 2,
     "metadata": {},
     "output_type": "execute_result"
    }
   ],
   "source": [
    "import os\n",
    "import cv2\n",
    "import yaml\n",
    "import time\n",
    "import torch\n",
    "import shutil\n",
    "import torchvision\n",
    "import tensorboardX\n",
    "import torch.nn as nn\n",
    "import torchvision.transforms as transforms\n",
    "\n",
    "from tqdm import tqdm\n",
    "from imageio import imsave\n",
    "from torch.autograd import grad\n",
    "from torch.autograd import Variable\n",
    "from skimage.util import view_as_windows\n",
    "\n",
    "\n",
    "\"\"\"\n",
    "WGAN-GP implementation.\n",
    "\n",
    "This is an implementation of Wasserstein GANs with gradient penalty.\n",
    "Link to the paper is : https://arxiv.org/pdf/1704.00028.pdf\n",
    "\n",
    "Wasserstein GANs suggest a change in the distance function calculated while\n",
    " training any Generative Adversarial Network.\n",
    "\"\"\"\n",
    "\n",
    "\n",
    "class GeneratorModel(nn.Module):\n",
    "    \"\"\"\n",
    "    Generator model for WGAN-GP.\n",
    "\n",
    "    Given a vector of random values (latent inputs) as input, this network\n",
    "    generates data with the same structure as the training data.\n",
    "    The goal is to train the generator to generate data that \"fools\" the\n",
    "    Critic.\n",
    "    \"\"\"\n",
    "\n",
    "    def __init__(self, dim_in, dim: int = 128):\n",
    "        super(GeneratorModel, self).__init__()\n",
    "\n",
    "        def genblock(dim_in, dim_out):\n",
    "            \n",
    "            block = nn.Sequential(nn.ConvTranspose2d(in_channels=dim_in,\n",
    "                                                     out_channels=dim_out,\n",
    "                                                     kernel_size=5,\n",
    "                                                     stride=2,\n",
    "                                                     padding=2,\n",
    "                                                     output_padding=1,\n",
    "                                                     bias=False),\n",
    "                                  nn.BatchNorm2d(dim_out),\n",
    "                                  nn.ReLU()\n",
    "                                  )\n",
    "            return block\n",
    "\n",
    "        def genimg(dim_in):\n",
    "            block = nn.Sequential(nn.ConvTranspose2d(in_channels=dim_in,\n",
    "                                                     out_channels=1,\n",
    "                                                     kernel_size=5,\n",
    "                                                     stride=2,\n",
    "                                                     padding=2,\n",
    "                                                     output_padding=1,\n",
    "                                                     ),\n",
    "                                  nn.Tanh()\n",
    "                                  )\n",
    "            return block\n",
    "\n",
    "        self.prepare = nn.Sequential(nn.Linear(dim_in, dim*8*4*4, bias=False),\n",
    "                                     nn.BatchNorm1d(dim*8*4*4),\n",
    "                                     nn.ReLU())\n",
    "        self.generate = nn.Sequential(genblock(dim*8, dim*16),\n",
    "                                      genblock(dim*16, dim*8),\n",
    "                                      genblock(dim*8, dim*4),\n",
    "                                      genblock(dim*4, dim*2),\n",
    "                                      genimg(dim*2))\n",
    "\n",
    "    def forward(self, x):\n",
    "        \"\"\"Forward pass function.\"\"\"\n",
    "        x = self.prepare(x)\n",
    "        x = x.view(x.size(0), -1, 4, 4)\n",
    "        x = self.generate(x)\n",
    "        return x\n",
    "\n",
    "latent_size = 100\n",
    "\n",
    "state_dict = torch.load(r\"/home/lpm/gan-for-mps/Epoch_155.ckpt\", map_location='cpu')\n",
    "\n",
    "generator = GeneratorModel(latent_size)\n",
    "generator.load_state_dict(state_dict[\"Generator\"])"
   ]
  },
  {
   "cell_type": "code",
   "execution_count": 3,
   "id": "21080284",
   "metadata": {
    "collapsed": false,
    "pycharm": {
     "name": "#%%\n"
    }
   },
   "outputs": [
    {
     "name": "stdout",
     "output_type": "stream",
     "text": [
      "Batch:  0 Unconditional Simulation Size:  (100, 1, 128, 128)\n"
     ]
    }
   ],
   "source": [
    "uncond = Unconditional(1, generator, latent_size, \"normal\")\n",
    "x = 1\n",
    "for i in range(1):\n",
    "    samples = uncond.create_unconditional_simulations(100, [i, i, i])\n",
    "    if samples is not None:\n",
    "        print(\"Batch: \", i, \"Unconditional Simulation Size: \", samples.shape)\n",
    "samples_arr = np.where(np.concatenate(samples, 0)*0.5+0.5 >= 0.5, 1.0, 0.0)"
   ]
  },
  {
   "cell_type": "code",
   "execution_count": 4,
   "id": "ac7df07b",
   "metadata": {},
   "outputs": [],
   "source": [
    "for im in samples_arr:\n",
    "        try:\n",
    "                dataset = np.loadtxt(f\"gan_bin/gan_results.out\")\n",
    "                im = cv2.resize(im, (150, 150))\n",
    "                im = np.where(im > 0.5, 1, 0)\n",
    "                numpy_tensor = im.squeeze().ravel()\n",
    "                new_TI = np.column_stack((dataset, numpy_tensor))\n",
    "                np.savetxt(fname = \"gan_bin/gan_results.out\",\n",
    "                        X = new_TI,\n",
    "                        newline = os.linesep,\n",
    "                        header=f\"150 150 1\\n\"\n",
    "                                \"1\\n\"\n",
    "                                \"facies\\n\")\n",
    "                new_TI = np.column_stack((dataset, numpy_tensor))\n",
    "        except FileNotFoundError:\n",
    "                im = cv2.resize(im, (150, 150))\n",
    "                im = np.where(im > 0.5, 1, 0)\n",
    "                numpy_tensor = im.squeeze().ravel()\n",
    "                np.savetxt(fname = f\"gan_bin/gan_results.out\",\n",
    "                        X=numpy_tensor,\n",
    "                        newline = os.linesep,\n",
    "                        header=f\"150 150 1\\n\"\n",
    "                                \"1\\n\"\n",
    "                                \"facies\\n\")"
   ]
  },
  {
   "cell_type": "code",
   "execution_count": 5,
   "id": "e123dc18",
   "metadata": {},
   "outputs": [],
   "source": [
    "numpy_array = np.loadtxt(\"gan_bin/gan_results.out\")\n",
    "header_name = [f'ti_{idx}' for idx in range(numpy_array.reshape(100, 150, 150).shape[0])]\n",
    "header_name = f'\\n'.join(header_name)\n",
    "\n",
    "# Save again with header\n",
    "np.savetxt(fname=\"gan_bin/gan_results.out\",\n",
    "            X=numpy_array,\n",
    "            header=f\"gan_results\\n{numpy_array.reshape(100, 150, 150).shape[1]}\\n{header_name}\", comments=\"\")"
   ]
  },
  {
   "cell_type": "markdown",
   "id": "b5e8e908",
   "metadata": {},
   "source": [
    "# SNESIM simulation"
   ]
  },
  {
   "cell_type": "code",
   "execution_count": 6,
   "id": "c3f3d95c",
   "metadata": {
    "collapsed": false,
    "pycharm": {
     "name": "#%%\n"
    }
   },
   "outputs": [],
   "source": [
    "import os\n",
    "\n",
    "os.makedirs(\"gan_bin/out_files\", exist_ok=True)\n",
    "os.makedirs(\"gan_bin/simulations\", exist_ok=True)\n",
    "\n",
    "for idx, im in enumerate(samples_arr):\n",
    "    im = cv2.resize(im, (150, 150))\n",
    "    image_resized = np.where(im > 0.5, 1, 0)\n",
    "\n",
    "    # save as .out\n",
    "    np.savetxt(f\"gan_bin/out_files/ti_{idx}.out\", image_resized.reshape(-1), header=\"150 150 1\\n1\\nfacies\", fmt=\"%1d\",comments='')"
   ]
  },
  {
   "cell_type": "code",
   "execution_count": null,
   "id": "aec132ec",
   "metadata": {},
   "outputs": [],
   "source": [
    "import os\n",
    "import pygeostat as gs\n",
    "import matplotlib.pyplot as plt\n",
    "\n",
    "try: os.chdir(\"gan_bin/\")\n",
    "except OSError: print(\"Already on gan files folder!\")\n",
    "\n",
    "seed_initial = 69069\n",
    "n_reals = 100\n",
    "\n",
    "seeds_list = gs.rseed_list(nseeds=n_reals, seed=seed_initial)\n",
    "\n",
    "for idx, image in enumerate(samples_arr):\n",
    "    image = cv2.resize(image, (150, 150))\n",
    "    image = (image > 0.5)\n",
    "\n",
    "    script = f\"\"\"\n",
    "                echo '___ SIMULATION $i ___'\n",
    "                echo 'snesim_gan.par' | wine snesim.exe\n",
    "                next=$(({idx}+1))\n",
    "                sed --in-place 's/_0.out/_{idx}.out/g' 'snesim_gan.par'\n",
    "                seed=$(shuf -i 1-100000 -n 1)\n",
    "                sed --in-place 's/\\d{5,}/{seeds_list[idx]}/g' 'snesim_gan.par'\n",
    "                \"\"\"\n",
    "    os.system(\"bash -c '%s'\" % script)"
   ]
  },
  {
   "cell_type": "code",
   "execution_count": 139,
   "id": "80ddda78",
   "metadata": {},
   "outputs": [
    {
     "data": {
      "text/plain": [
       "99928"
      ]
     },
     "execution_count": 139,
     "metadata": {},
     "output_type": "execute_result"
    }
   ],
   "source": [
    "min(seeds_list)"
   ]
  },
  {
   "cell_type": "markdown",
   "id": "ec7962c5",
   "metadata": {},
   "source": [
    "## Fix this"
   ]
  },
  {
   "cell_type": "code",
   "execution_count": 1,
   "id": "34f4bd01",
   "metadata": {
    "collapsed": false,
    "pycharm": {
     "name": "#%%\n"
    },
    "vscode": {
     "languageId": "shellscript"
    }
   },
   "outputs": [
    {
     "ename": "SyntaxError",
     "evalue": "invalid syntax (3158914023.py, line 1)",
     "output_type": "error",
     "traceback": [
      "\u001b[0;36m  Input \u001b[0;32mIn [1]\u001b[0;36m\u001b[0m\n\u001b[0;31m    for i in {0..99}\u001b[0m\n\u001b[0m                ^\u001b[0m\n\u001b[0;31mSyntaxError\u001b[0m\u001b[0;31m:\u001b[0m invalid syntax\n"
     ]
    }
   ],
   "source": [
    "\n",
    "for i in {0..99}\n",
    "     do\n",
    "          echo \"___ SIMULATION $i ___\"\n",
    "          echo \"snesim_gan.par\" | wine snesim.exe\n",
    "          next=$((i+1))\n",
    "          sed --in-place \"s/_$i.out/_$next.out/g\" \"snesim_gan.par\"\n",
    "          seed=$(shuf -i 1-100000 -n 1)\n",
    "          sed --in-place 's/\\d{5,6}/$seed/g' 'snesim_gan.par'\n",
    "     done"
   ]
  },
  {
   "cell_type": "markdown",
   "id": "839fe3b0",
   "metadata": {
    "collapsed": false,
    "pycharm": {
     "name": "#%% md\n"
    }
   },
   "source": [
    "## Loading SNESIM data from $\\mathbb{G}$"
   ]
  },
  {
   "cell_type": "code",
   "execution_count": 33,
   "id": "41d1431e",
   "metadata": {
    "collapsed": false,
    "pycharm": {
     "name": "#%%\n"
    }
   },
   "outputs": [],
   "source": [
    "import numpy\n",
    "import random\n",
    "import pandas as pd\n",
    "import matplotlib as mpl\n",
    "import matplotlib.pyplot as plt\n",
    "\n",
    "from mpl_toolkits.axes_grid1 import ImageGrid\n",
    "from src.helpers.funcs import *\n",
    "\n",
    "#plt.style.use([\"science\", \"nature\"])\n",
    "\n",
    "import matplotlib\n",
    "plt.rcParams.update({\n",
    "    \"text.usetex\": False})"
   ]
  },
  {
   "cell_type": "code",
   "execution_count": 40,
   "id": "7924e695",
   "metadata": {
    "collapsed": false,
    "pycharm": {
     "name": "#%%\n"
    }
   },
   "outputs": [],
   "source": [
    "from matplotlib.lines import Line2D\n",
    "from matplotlib.colors import ListedColormap, LinearSegmentedColormap\n",
    "\n",
    "\n",
    "def highlight_cell(x_coordinate, y_coordinate, axis=None, **kwargs):\n",
    "    rect = plt.Rectangle((x_coordinate - .5, y_coordinate - .5), 1, 1, fill=True, **kwargs)\n",
    "    axis = axis or plt.gca()\n",
    "    axis.add_patch(rect)\n",
    "    return rect\n",
    "\n",
    "def get_color_bar():\n",
    "    cmap = mpl.colors.ListedColormap(['white', \"black\"])\n",
    "\n",
    "    col_dict={0:\"white\", 1:\"black\"}\n",
    "    norm_bins = np.sort([*col_dict.keys()]) + 0.5\n",
    "    norm_bins = np.insert(norm_bins, 0, np.min(norm_bins) - 1.0)\n",
    "\n",
    "    norm = mpl.colors.BoundaryNorm(norm_bins, 2, clip=True)\n",
    "\n",
    "    labels = np.array([\"Sandstone\", \"Shale\"])\n",
    "    fmt = matplotlib.ticker.FuncFormatter(lambda x, pos: labels[norm(x)])\n",
    "\n",
    "    diff = norm_bins[1:] - norm_bins[:-1]\n",
    "    tickz = norm_bins[:-1] + diff / 2\n",
    "\n",
    "    colorbar = plt.colorbar(\n",
    "        mpl.cm.ScalarMappable(cmap=cmap, norm=norm),\n",
    "        ticks=tickz,\n",
    "        format=fmt,\n",
    "        spacing='proportional',\n",
    "        label='Facies',\n",
    "    )\n",
    "\n",
    "    return colorbar\n",
    "\n",
    "def etype_plot(dict_ti: pd.DataFrame):\n",
    "    _data = dict_ti.copy()\n",
    "\n",
    "    fig, ax = plt.subplots(1, 1, figsize=(5.5, 4))\n",
    "\n",
    "    # Get mean for each row\n",
    "    _data['etype'] = _data.mean(axis=1)\n",
    "    ax.imshow(_data['etype'].values.reshape(150, 150),\n",
    "              cmap='gray', origin='lower')\n",
    "\n",
    "    # Text settings\n",
    "    plt.title(\"Etype of SNESIM with generated TIs\")\n",
    "    plt.xlabel(\"X coordinate\")\n",
    "    plt.ylabel(\"Y coordinate\")\n",
    "\n",
    "    # Colorbar settings\n",
    "    cmap = mpl.cm.gray\n",
    "    norm = mpl.colors.Normalize(vmin=0, vmax=1)\n",
    "    cb = plt.colorbar(mpl.cm.ScalarMappable(norm=norm, cmap=cmap),\n",
    "                      orientation='vertical', spacing=\"proportional\")\n",
    "    cb.ax.tick_params()\n",
    "    cb.set_label(\"Mean\")\n",
    "\n",
    "    # Saving images to .pdf format\n",
    "    plt.grid(False)\n",
    "    #plt.savefig(\"generative_mps/results/etype.pdf\", dpi=600, bbox_inches=\"tight\")\n",
    "    plt.savefig(\"generative_mps/results/etype.png\", dpi=600, bbox_inches='tight')\n",
    "    plt.show()\n",
    "\n",
    "def calculate_uncertainty(dict_ti: pd.DataFrame):\n",
    "    _data = dict_ti.copy()\n",
    "\n",
    "    _data['prob_sand'] = _data.sum(axis=1)\n",
    "    _data['prob_shale'] = 100 - _data['prob_sand']\n",
    "\n",
    "    _data[\"u_max\"] = _data[[\"prob_shale\", \"prob_sand\"]].max(axis=1) / 100\n",
    "    _data[\"u_min\"] = _data[[\"prob_shale\", \"prob_sand\"]].min(axis=1) / 100\n",
    "\n",
    "    _data.drop('prob_sand', axis=1, inplace=True)\n",
    "    _data.drop('prob_shale', axis=1, inplace=True)\n",
    "\n",
    "    return _data\n",
    "\n",
    "def plot_uncertainty(dict_ti: pd.DataFrame):\n",
    "    _data = dict_ti.copy()\n",
    "\n",
    "    plt.figure(figsize=(5.5, 4))\n",
    "\n",
    "    _data = calculate_uncertainty(_data)\n",
    "\n",
    "    plt.imshow(_data['u_min'].values.reshape(150, 150),\n",
    "              cmap='gray', origin='lower')\n",
    "\n",
    "    plt.title(\"Simulation uncertainty from proposed workflow\")\n",
    "    plt.xlabel(\"X coordinate\")\n",
    "    plt.ylabel(\"Y coordinate\")\n",
    "\n",
    "    # Colorbar settings\n",
    "    cmap = mpl.cm.gray\n",
    "    norm = mpl.colors.Normalize(vmin=0, vmax=1)\n",
    "    cb = plt.colorbar(mpl.cm.ScalarMappable(norm=norm, cmap=cmap),\n",
    "                 orientation='vertical', spacing=\"proportional\")\n",
    "    cb.ax.tick_params()\n",
    "    cb.set_label(\"Uncertainty\")\n",
    "\n",
    "    # Saving images to .pdf format\n",
    "    plt.grid(False)\n",
    "    ##plt.savefig('generative_mps/results/uncertainty.pdf', dpi=500, bbox_inches=\"tight\")\n",
    "    plt.savefig(\"generative_mps/results/uncertainty.png\", dpi=600, bbox_inches='tight')\n",
    "    plt.show()\n",
    "\n",
    "\n",
    "def plot_realizations_grid(real):\n",
    "    # Samples 25 TI for a grid of 5x5 images\n",
    "    rand_idx = [random.randint(0, 5) for _ in range(5)]\n",
    "    tis_sampled = [real[i] for i in rand_idx]\n",
    "\n",
    "    fig = plt.figure(figsize=(8, 5))\n",
    "\n",
    "    image_grid = ImageGrid(fig, 111,\n",
    "                           nrows_ncols=(2, 2),\n",
    "                           axes_pad=0.1,\n",
    "                           cbar_location=\"left\",\n",
    "                           cbar_pad=0.15)\n",
    "\n",
    "    cb = get_color_bar()\n",
    "\n",
    "    fig.suptitle(\"SNESIM realizations from Generative model\")\n",
    "\n",
    "    for ax, image in zip(image_grid, tis_sampled):\n",
    "        # Iterating over the grid returns the Axes.\n",
    "        ax.imshow(image, cmap=\"gray\", origin=\"lower\")\n",
    "\n",
    "    #plt.savefig(\"generative_mps/results/simulation_grid.pdf\", dpi=600,\n",
    "                #bbox_inches=\"tight\")\n",
    "    plt.savefig(\"generative_mps/results/simulation_grid.png\", dpi=600, bbox_inches='tight')\n",
    "    plt.show()\n",
    "\n",
    "def get_sand_shale_proportion(image):\n",
    "    image = image.reshape(-1)\n",
    "    sand_prop = (len(np.where(image==1)[0]) / 150**2)*100\n",
    "    shale_prop = (len(np.where(image==0)[0]) / 150**2)*100\n",
    "    return sand_prop, shale_prop\n",
    "\n",
    "def proportions(real: numpy.ndarray) -> None:\n",
    "    fig, ax = plt.subplots(figsize=(5.5, 4))\n",
    "\n",
    "    sand_values = list()\n",
    "    shale_values = list()\n",
    "\n",
    "    # Get proportions for all\n",
    "    for i in range(1, len(real)):\n",
    "        sand, shale = get_sand_shale_proportion(real[i].reshape(-1))\n",
    "        sand_values.append(sand)\n",
    "        shale_values.append(shale)\n",
    "\n",
    "    df_dict = dict(Sand=sand_values, Shale=shale_values)\n",
    "    df = pd.DataFrame.from_dict(df_dict, orient='columns')\n",
    "\n",
    "    # Boxplot\n",
    "    bp = ax.boxplot(df, labels=[\"Sandstone\", \"Shale\"], patch_artist=True,\n",
    "                    showmeans=True, showfliers=False)\n",
    "\n",
    "    for element in ['boxes', 'whiskers', 'fliers', 'means', 'medians', 'caps']:\n",
    "        plt.setp(bp[element], color=\"black\")\n",
    "\n",
    "    for patch in bp['boxes']:\n",
    "        patch.set(facecolor='#f1f1f1')\n",
    "\n",
    "    plt.ylim(20, 80)\n",
    "\n",
    "    plt.ylabel('Percentage (%)')\n",
    "    plt.xlabel('Category')\n",
    "    plt.title('SNESIM Generated Training Images proportions')\n",
    "\n",
    "    #plt.savefig(\"generative_mps/results/boxplot_snesim.pdf\", dpi=600,\n",
    "                #bbox_inches='tight')\n",
    "\n",
    "    plt.savefig(\"generative_mps/results/boxplot_snesim.png\", dpi=600, bbox_inches='tight')\n",
    "\n",
    "    plt.show()\n",
    "\n",
    "def concatenate_out_files(directory: str):\n",
    "    cat_array = []\n",
    "    for im in os.listdir(directory):\n",
    "        image = np.loadtxt(directory+im, skiprows=4)[:,0]\n",
    "        cat_array.append(np.resize(image, (150, 150)))\n",
    "    return cat_array"
   ]
  },
  {
   "cell_type": "code",
   "execution_count": 35,
   "id": "4179c86e",
   "metadata": {
    "collapsed": false,
    "pycharm": {
     "name": "#%%\n"
    }
   },
   "outputs": [
    {
     "name": "stdout",
     "output_type": "stream",
     "text": [
      "[INFO] Loading simulations\r"
     ]
    }
   ],
   "source": [
    "print(\"[INFO] Loading simulations\", end=\"\\r\")\n",
    "realizations = concatenate_out_files(\"gan_bin/simulations/\")\n",
    "\n",
    "ti_dict = dict()\n",
    "for idx, realization in enumerate(realizations):\n",
    "    ti_dict[f'ti_{idx+1}'] = np.array(realization.reshape(-1))\n",
    "\n",
    "dataframe = pd.DataFrame(ti_dict)"
   ]
  },
  {
   "cell_type": "code",
   "execution_count": 36,
   "id": "ca6f4605",
   "metadata": {
    "pycharm": {
     "name": "#%%\n"
    }
   },
   "outputs": [
    {
     "data": {
      "image/png": "[encoded data removed]",
      "text/plain": [
       "<Figure size 396x288 with 2 Axes>"
      ]
     },
     "metadata": {
      "needs_background": "light"
     },
     "output_type": "display_data"
    }
   ],
   "source": [
    "plot_uncertainty(dataframe)"
   ]
  },
  {
   "cell_type": "code",
   "execution_count": 37,
   "id": "ff2108d7",
   "metadata": {},
   "outputs": [
    {
     "data": {
      "text/plain": [
       "(array([6770.,    0., 5856.,    0., 4050.,    0., 2583.,    0., 1801.,\n",
       "        1440.]),\n",
       " array([0.   , 0.005, 0.01 , 0.015, 0.02 , 0.025, 0.03 , 0.035, 0.04 ,\n",
       "        0.045, 0.05 ]),\n",
       " <BarContainer object of 10 artists>)"
      ]
     },
     "execution_count": 37,
     "metadata": {},
     "output_type": "execute_result"
    },
    {
     "data": {
      "image/png": "[encoded data removed]",
      "text/plain": [
       "<Figure size 396x288 with 1 Axes>"
      ]
     },
     "metadata": {
      "needs_background": "light"
     },
     "output_type": "display_data"
    }
   ],
   "source": [
    "data_ckp = dataframe.copy()\n",
    "\n",
    "plt.figure(figsize=(5.5, 4))\n",
    "\n",
    "data = calculate_uncertainty(data_ckp)\n",
    "plt.hist(data['u_min'])"
   ]
  },
  {
   "cell_type": "code",
   "execution_count": 41,
   "id": "b6d0b57a",
   "metadata": {
    "pycharm": {
     "name": "#%%\n"
    }
   },
   "outputs": [
    {
     "data": {
      "image/png": "[encoded data removed]",
      "text/plain": [
       "<Figure size 576x360 with 9 Axes>"
      ]
     },
     "metadata": {
      "needs_background": "light"
     },
     "output_type": "display_data"
    }
   ],
   "source": [
    "plot_realizations_grid(realizations)"
   ]
  },
  {
   "cell_type": "code",
   "execution_count": 47,
   "id": "4595feb3",
   "metadata": {
    "collapsed": false,
    "pycharm": {
     "name": "#%%\n"
    }
   },
   "outputs": [
    {
     "name": "stdout",
     "output_type": "stream",
     "text": [
      "eas: file ->      bin/snesim.out\n",
      "eas: title-> SNESIM Realizations\n",
      "[INFO] Loading simulations\r"
     ]
    },
    {
     "data": {
      "image/png": "[encoded data removed]",
      "text/plain": [
       "<Figure size 792x432 with 2 Axes>"
      ]
     },
     "metadata": {
      "needs_background": "light"
     },
     "output_type": "display_data"
    }
   ],
   "source": [
    "file = read_conditional_samples(\"bin/snesim.out\")[\"D\"]\n",
    "realizations = file[:, 0].reshape(100, 150, 150)\n",
    "\n",
    "print(\"[INFO] Loading simulations\", end=\"\\r\")\n",
    "snesim_gen_realizations = concatenate_out_files(\"gan_bin/simulations/\")\n",
    "\n",
    "def proportions_comparison(real: numpy.ndarray, fake:numpy.ndarray) -> None:\n",
    "    fig, ax = plt.subplots(1, 2, figsize=(11, 6))\n",
    "\n",
    "    sand_values = list()\n",
    "    shale_values = list()\n",
    "\n",
    "    # Get proportions for real data\n",
    "    for i in range(1, len(real)):\n",
    "        sand, shale = get_sand_shale_proportion(real[i].reshape(-1))\n",
    "        sand_values.append(sand)\n",
    "        shale_values.append(shale)\n",
    "\n",
    "    df_dict = dict(Sand=sand_values, Shale=shale_values)\n",
    "    df = pd.DataFrame.from_dict(df_dict, orient='columns')\n",
    "\n",
    "    # Boxplot\n",
    "    bp = ax[0].boxplot(df, labels=[\"Sandstone\", \"Shale\"],\n",
    "                       patch_artist=True, showfliers=False)\n",
    "    ax[0].set_ylabel('Percentage (%)')\n",
    "    ax[0].set_xlabel('Category')\n",
    "    ax[0].set_title('Training Images proportions (Traditional workflow)')\n",
    "\n",
    "    for element in ['boxes', 'whiskers', 'fliers', 'means', 'medians', 'caps']:\n",
    "        plt.setp(bp[element], color=\"black\")\n",
    "\n",
    "    for patch in bp['boxes']:\n",
    "        patch.set(facecolor='#f1f1f1')\n",
    "\n",
    "    sand_values = list()\n",
    "    shale_values = list()\n",
    "    # Get proportions for fake data\n",
    "    for i in range(1, len(fake)):\n",
    "        sand, shale = get_sand_shale_proportion(fake[i].reshape(-1))\n",
    "        sand_values.append(sand)\n",
    "        shale_values.append(shale)\n",
    "\n",
    "    df_dict = dict(Sand=sand_values, Shale=shale_values)\n",
    "    df = pd.DataFrame.from_dict(df_dict, orient='columns')\n",
    "\n",
    "    # Boxplot\n",
    "    bp = ax[1].boxplot(df, labels=[\"Sandstone\", \"Shale\"],\n",
    "                       patch_artist=True, showfliers=False)\n",
    "\n",
    "    for element in ['boxes', 'whiskers', 'fliers', 'means', 'medians', 'caps']:\n",
    "        plt.setp(bp[element], color=\"black\")\n",
    "\n",
    "    for patch in bp['boxes']:\n",
    "        patch.set(facecolor='#f1f1f1')\n",
    "\n",
    "    ax[0].set_ylim(20, 80)\n",
    "    ax[1].set_ylim(20, 80)\n",
    "\n",
    "    ax[1].set_ylabel('Percentage (%)')\n",
    "    ax[1].set_xlabel('Category')\n",
    "    ax[1].set_title('Training Images proportions (Proposed workflow)')\n",
    "\n",
    "    #plt.savefig(\"generative_mps/results/boxplot_snesim.pdf\", dpi=600,\n",
    "                #bbox_inches='tight')\n",
    "\n",
    "    #plt.savefig(\"generative_mps/results/boxplot_snesim.png\", dpi=600, bbox_inches='tight')\n",
    "\n",
    "    plt.show()\n",
    "\n",
    "proportions_comparison(realizations,\n",
    "                       snesim_gen_realizations)"
   ]
  },
  {
   "cell_type": "code",
   "execution_count": null,
   "id": "51bbba4e",
   "metadata": {},
   "outputs": [],
   "source": []
  }
 ],
 "metadata": {
  "kernelspec": {
   "display_name": "Python 3.8.10 ('.venv': venv)",
   "language": "python",
   "name": "python3"
  },
  "language_info": {
   "codemirror_mode": {
    "name": "ipython",
    "version": 3
   },
   "file_extension": ".py",
   "mimetype": "text/x-python",
   "name": "python",
   "nbconvert_exporter": "python",
   "pygments_lexer": "ipython3",
   "version": "3.8.10"
  },
  "vscode": {
   "interpreter": {
    "hash": "670f948a0e8cdffa9419ebf4c82bd33eb4e3b9d18768d808d380f7714cec4d11"
   }
  }
 },
 "nbformat": 4,
 "nbformat_minor": 5
}
