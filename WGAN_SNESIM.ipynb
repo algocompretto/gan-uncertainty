{
 "cells": [
  {
   "cell_type": "markdown",
   "source": [
    "# Unconditional sampling from $\\mathbb{G}$"
   ],
   "metadata": {
    "collapsed": false,
    "pycharm": {
     "name": "#%% md\n"
    }
   }
  },
  {
   "cell_type": "code",
   "execution_count": 1,
   "id": "b0ce9480",
   "metadata": {
    "pycharm": {
     "name": "#%%\n"
    }
   },
   "outputs": [],
   "source": [
    "import torch\n",
    "import torch.nn as nn\n",
    "from torch.autograd import Variable\n",
    "import torch.optim as optim\n",
    "import numpy as np\n",
    "\n",
    "class Unconditional(object):\n",
    "    def __init__(self, dimension, generator, latent_size, latent_dist, use_cuda=False):\n",
    "        self.use_cuda = use_cuda\n",
    "\n",
    "        self.dimension = dimension\n",
    "        self.generator = generator\n",
    "\n",
    "        if self.use_cuda:\n",
    "            self.generator = self.generator.cuda()\n",
    "\n",
    "        self.latent_size = latent_size\n",
    "        self.latent_dist = latent_dist\n",
    "\n",
    "    def sample_batch(self, batch, m):\n",
    "        config = [batch, self.latent_size]# + m\n",
    "        zhat = None\n",
    "        if self.use_cuda:\n",
    "            zhat = Variable(torch.FloatTensor(*config).cuda(), requires_grad=True)\n",
    "        else:\n",
    "            zhat = Variable(torch.FloatTensor(*config), requires_grad=True)\n",
    "        zhat.retain_grad()\n",
    "        if self.latent_dist == \"normal\":\n",
    "            zhat.data = zhat.data.normal_(0, 1)\n",
    "        elif self.latent_dist == \"uniform\":\n",
    "            zhat.data = zhat.data.uniform_(-1, 1)\n",
    "        return zhat\n",
    "\n",
    "    def create_unconditional_simulations(self, batch, m):\n",
    "        zhat = self.sample_batch(batch, m)\n",
    "        if self.use_cuda:\n",
    "            zhat = zhat.cuda()\n",
    "        try:\n",
    "            xhat = self.generator(zhat)\n",
    "            return xhat.data.cpu().numpy()\n",
    "        except RuntimeError as reError:\n",
    "            print(reError)"
   ]
  },
  {
   "cell_type": "code",
   "execution_count": 3,
   "id": "4443999e",
   "metadata": {
    "pycharm": {
     "name": "#%%\n"
    }
   },
   "outputs": [
    {
     "data": {
      "text/plain": [
       "<All keys matched successfully>"
      ]
     },
     "execution_count": 3,
     "metadata": {},
     "output_type": "execute_result"
    }
   ],
   "source": [
    "import os\n",
    "import cv2\n",
    "import yaml\n",
    "import time\n",
    "import torch\n",
    "import shutil\n",
    "import torchvision\n",
    "import tensorboardX\n",
    "import torch.nn as nn\n",
    "import torchvision.transforms as transforms\n",
    "\n",
    "from tqdm import tqdm\n",
    "from imageio import imsave\n",
    "from torch.autograd import grad\n",
    "from torch.autograd import Variable\n",
    "from skimage.util import view_as_windows\n",
    "\n",
    "\n",
    "\"\"\"\n",
    "WGAN-GP implementation.\n",
    "\n",
    "This is an implementation of Wasserstein GANs with gradient penalty.\n",
    "Link to the paper is : https://arxiv.org/pdf/1704.00028.pdf\n",
    "\n",
    "Wasserstein GANs suggest a change in the distance function calculated while\n",
    " training any Generative Adverserial Network.\n",
    "\"\"\"\n",
    "\n",
    "\n",
    "class GeneratorModel(nn.Module):\n",
    "    \"\"\"\n",
    "    Generator model for WGAN-GP.\n",
    "\n",
    "    Given a vector of random values (latent inputs) as input, this network\n",
    "    generates data with the same structure as the training data.\n",
    "    The goal is to train the generator to generate data that \"fools\" the\n",
    "    Critic.\n",
    "    \"\"\"\n",
    "\n",
    "    def __init__(self, dim_in, dim: int = 128):\n",
    "        super(GeneratorModel, self).__init__()\n",
    "\n",
    "        def genblock(dim_in, dim_out):\n",
    "            \n",
    "            block = nn.Sequential(nn.ConvTranspose2d(in_channels=dim_in,\n",
    "                                                     out_channels=dim_out,\n",
    "                                                     kernel_size=5,\n",
    "                                                     stride=2,\n",
    "                                                     padding=2,\n",
    "                                                     output_padding=1,\n",
    "                                                     bias=False),\n",
    "                                  nn.BatchNorm2d(dim_out),\n",
    "                                  nn.ReLU()\n",
    "                                  )\n",
    "            return block\n",
    "\n",
    "        def genimg(dim_in):\n",
    "            block = nn.Sequential(nn.ConvTranspose2d(in_channels=dim_in,\n",
    "                                                     out_channels=1,\n",
    "                                                     kernel_size=5,\n",
    "                                                     stride=2,\n",
    "                                                     padding=2,\n",
    "                                                     output_padding=1,\n",
    "                                                     ),\n",
    "                                  nn.Tanh()\n",
    "                                  )\n",
    "            return block\n",
    "\n",
    "        self.prepare = nn.Sequential(nn.Linear(dim_in, dim*8*4*4, bias=False),\n",
    "                                     nn.BatchNorm1d(dim*8*4*4),\n",
    "                                     nn.ReLU())\n",
    "        self.generate = nn.Sequential(genblock(dim*8, dim*4),\n",
    "                                      genblock(dim*4, dim*2),\n",
    "                                      genblock(dim*2, dim*4),\n",
    "                                      genblock(dim*4, dim*8),\n",
    "                                      genimg(dim*8))\n",
    "\n",
    "    def forward(self, x):\n",
    "        \"\"\"Forward pass function.\"\"\"\n",
    "        x = self.prepare(x)\n",
    "        x = x.view(x.size(0), -1, 4, 4)\n",
    "        x = self.generate(x)\n",
    "        return x\n",
    "\n",
    "latent_size = 100\n",
    "\n",
    "state_dict = torch.load(r\"C:\\Users\\algocompretto\\SharedCerberus\\Epoch_(100).ckpt\", map_location='cpu')\n",
    "\n",
    "generator = GeneratorModel(latent_size)\n",
    "generator.load_state_dict(state_dict[\"Generator\"])\n"
   ]
  },
  {
   "cell_type": "code",
   "execution_count": 47,
   "id": "d36483bf",
   "metadata": {
    "scrolled": true,
    "pycharm": {
     "name": "#%%\n"
    }
   },
   "outputs": [
    {
     "name": "stdout",
     "output_type": "stream",
     "text": [
      "Imsize:  1 Uncoditional Simulation Size:  (100, 1, 128, 128)\n",
      "Imsize:  2 Uncoditional Simulation Size:  (100, 1, 128, 128)\n",
      "Imsize:  3 Uncoditional Simulation Size:  (100, 1, 128, 128)\n",
      "Imsize:  4 Uncoditional Simulation Size:  (100, 1, 128, 128)\n",
      "Imsize:  5 Uncoditional Simulation Size:  (100, 1, 128, 128)\n",
      "Imsize:  6 Uncoditional Simulation Size:  (100, 1, 128, 128)\n",
      "Imsize:  7 Uncoditional Simulation Size:  (100, 1, 128, 128)\n",
      "Imsize:  8 Uncoditional Simulation Size:  (100, 1, 128, 128)\n",
      "Imsize:  9 Uncoditional Simulation Size:  (100, 1, 128, 128)\n",
      "Imsize:  10 Uncoditional Simulation Size:  (100, 1, 128, 128)\n",
      "Imsize:  11 Uncoditional Simulation Size:  (100, 1, 128, 128)\n",
      "Imsize:  12 Uncoditional Simulation Size:  (100, 1, 128, 128)\n",
      "Imsize:  13 Uncoditional Simulation Size:  (100, 1, 128, 128)\n",
      "Imsize:  14 Uncoditional Simulation Size:  (100, 1, 128, 128)\n",
      "Imsize:  15 Uncoditional Simulation Size:  (100, 1, 128, 128)\n",
      "Imsize:  16 Uncoditional Simulation Size:  (100, 1, 128, 128)\n",
      "Imsize:  17 Uncoditional Simulation Size:  (100, 1, 128, 128)\n",
      "Imsize:  18 Uncoditional Simulation Size:  (100, 1, 128, 128)\n",
      "Imsize:  19 Uncoditional Simulation Size:  (100, 1, 128, 128)\n",
      "Imsize:  20 Uncoditional Simulation Size:  (100, 1, 128, 128)\n",
      "Imsize:  21 Uncoditional Simulation Size:  (100, 1, 128, 128)\n",
      "Imsize:  22 Uncoditional Simulation Size:  (100, 1, 128, 128)\n",
      "Imsize:  23 Uncoditional Simulation Size:  (100, 1, 128, 128)\n",
      "Imsize:  24 Uncoditional Simulation Size:  (100, 1, 128, 128)\n",
      "Imsize:  25 Uncoditional Simulation Size:  (100, 1, 128, 128)\n",
      "Imsize:  26 Uncoditional Simulation Size:  (100, 1, 128, 128)\n",
      "Imsize:  27 Uncoditional Simulation Size:  (100, 1, 128, 128)\n",
      "Imsize:  28 Uncoditional Simulation Size:  (100, 1, 128, 128)\n",
      "Imsize:  29 Uncoditional Simulation Size:  (100, 1, 128, 128)\n",
      "Imsize:  30 Uncoditional Simulation Size:  (100, 1, 128, 128)\n",
      "Imsize:  31 Uncoditional Simulation Size:  (100, 1, 128, 128)\n",
      "Imsize:  32 Uncoditional Simulation Size:  (100, 1, 128, 128)\n",
      "Imsize:  33 Uncoditional Simulation Size:  (100, 1, 128, 128)\n",
      "Imsize:  34 Uncoditional Simulation Size:  (100, 1, 128, 128)\n",
      "Imsize:  35 Uncoditional Simulation Size:  (100, 1, 128, 128)\n",
      "Imsize:  36 Uncoditional Simulation Size:  (100, 1, 128, 128)\n",
      "Imsize:  37 Uncoditional Simulation Size:  (100, 1, 128, 128)\n",
      "Imsize:  38 Uncoditional Simulation Size:  (100, 1, 128, 128)\n",
      "Imsize:  39 Uncoditional Simulation Size:  (100, 1, 128, 128)\n",
      "Imsize:  40 Uncoditional Simulation Size:  (100, 1, 128, 128)\n",
      "Imsize:  41 Uncoditional Simulation Size:  (100, 1, 128, 128)\n",
      "Imsize:  42 Uncoditional Simulation Size:  (100, 1, 128, 128)\n",
      "Imsize:  43 Uncoditional Simulation Size:  (100, 1, 128, 128)\n",
      "Imsize:  44 Uncoditional Simulation Size:  (100, 1, 128, 128)\n",
      "Imsize:  45 Uncoditional Simulation Size:  (100, 1, 128, 128)\n",
      "Imsize:  46 Uncoditional Simulation Size:  (100, 1, 128, 128)\n",
      "Imsize:  47 Uncoditional Simulation Size:  (100, 1, 128, 128)\n",
      "Imsize:  48 Uncoditional Simulation Size:  (100, 1, 128, 128)\n",
      "Imsize:  49 Uncoditional Simulation Size:  (100, 1, 128, 128)\n",
      "Imsize:  50 Uncoditional Simulation Size:  (100, 1, 128, 128)\n",
      "Imsize:  51 Uncoditional Simulation Size:  (100, 1, 128, 128)\n",
      "Imsize:  52 Uncoditional Simulation Size:  (100, 1, 128, 128)\n",
      "Imsize:  53 Uncoditional Simulation Size:  (100, 1, 128, 128)\n",
      "Imsize:  54 Uncoditional Simulation Size:  (100, 1, 128, 128)\n",
      "Imsize:  55 Uncoditional Simulation Size:  (100, 1, 128, 128)\n",
      "Imsize:  56 Uncoditional Simulation Size:  (100, 1, 128, 128)\n",
      "Imsize:  57 Uncoditional Simulation Size:  (100, 1, 128, 128)\n",
      "Imsize:  58 Uncoditional Simulation Size:  (100, 1, 128, 128)\n",
      "Imsize:  59 Uncoditional Simulation Size:  (100, 1, 128, 128)\n",
      "Imsize:  60 Uncoditional Simulation Size:  (100, 1, 128, 128)\n",
      "Imsize:  61 Uncoditional Simulation Size:  (100, 1, 128, 128)\n",
      "Imsize:  62 Uncoditional Simulation Size:  (100, 1, 128, 128)\n",
      "Imsize:  63 Uncoditional Simulation Size:  (100, 1, 128, 128)\n",
      "Imsize:  64 Uncoditional Simulation Size:  (100, 1, 128, 128)\n",
      "Imsize:  65 Uncoditional Simulation Size:  (100, 1, 128, 128)\n",
      "Imsize:  66 Uncoditional Simulation Size:  (100, 1, 128, 128)\n",
      "Imsize:  67 Uncoditional Simulation Size:  (100, 1, 128, 128)\n",
      "Imsize:  68 Uncoditional Simulation Size:  (100, 1, 128, 128)\n",
      "Imsize:  69 Uncoditional Simulation Size:  (100, 1, 128, 128)\n",
      "Imsize:  70 Uncoditional Simulation Size:  (100, 1, 128, 128)\n",
      "Imsize:  71 Uncoditional Simulation Size:  (100, 1, 128, 128)\n",
      "Imsize:  72 Uncoditional Simulation Size:  (100, 1, 128, 128)\n",
      "Imsize:  73 Uncoditional Simulation Size:  (100, 1, 128, 128)\n",
      "Imsize:  74 Uncoditional Simulation Size:  (100, 1, 128, 128)\n",
      "Imsize:  75 Uncoditional Simulation Size:  (100, 1, 128, 128)\n",
      "Imsize:  76 Uncoditional Simulation Size:  (100, 1, 128, 128)\n",
      "Imsize:  77 Uncoditional Simulation Size:  (100, 1, 128, 128)\n",
      "Imsize:  78 Uncoditional Simulation Size:  (100, 1, 128, 128)\n",
      "Imsize:  79 Uncoditional Simulation Size:  (100, 1, 128, 128)\n",
      "Imsize:  80 Uncoditional Simulation Size:  (100, 1, 128, 128)\n",
      "Imsize:  81 Uncoditional Simulation Size:  (100, 1, 128, 128)\n",
      "Imsize:  82 Uncoditional Simulation Size:  (100, 1, 128, 128)\n",
      "Imsize:  83 Uncoditional Simulation Size:  (100, 1, 128, 128)\n",
      "Imsize:  84 Uncoditional Simulation Size:  (100, 1, 128, 128)\n",
      "Imsize:  85 Uncoditional Simulation Size:  (100, 1, 128, 128)\n",
      "Imsize:  86 Uncoditional Simulation Size:  (100, 1, 128, 128)\n",
      "Imsize:  87 Uncoditional Simulation Size:  (100, 1, 128, 128)\n",
      "Imsize:  88 Uncoditional Simulation Size:  (100, 1, 128, 128)\n",
      "Imsize:  89 Uncoditional Simulation Size:  (100, 1, 128, 128)\n",
      "Imsize:  90 Uncoditional Simulation Size:  (100, 1, 128, 128)\n",
      "Imsize:  91 Uncoditional Simulation Size:  (100, 1, 128, 128)\n",
      "Imsize:  92 Uncoditional Simulation Size:  (100, 1, 128, 128)\n",
      "Imsize:  93 Uncoditional Simulation Size:  (100, 1, 128, 128)\n",
      "Imsize:  94 Uncoditional Simulation Size:  (100, 1, 128, 128)\n",
      "Imsize:  95 Uncoditional Simulation Size:  (100, 1, 128, 128)\n",
      "Imsize:  96 Uncoditional Simulation Size:  (100, 1, 128, 128)\n",
      "Imsize:  97 Uncoditional Simulation Size:  (100, 1, 128, 128)\n",
      "Imsize:  98 Uncoditional Simulation Size:  (100, 1, 128, 128)\n",
      "Imsize:  99 Uncoditional Simulation Size:  (100, 1, 128, 128)\n"
     ]
    }
   ],
   "source": [
    "uncond = Unconditional(1, generator, latent_size, \"normal\")\n",
    "x = 1\n",
    "for i in range(1, 100):\n",
    "    samples = uncond.create_unconditional_simulations(100, [i, i, i])\n",
    "    if samples is not None:\n",
    "        print(\"Imsize: \", i, \"Uncoditional Simulation Size: \", samples.shape)\n",
    "samples_arr = np.where(np.concatenate(samples, 0)*0.5+0.5 >= 0.5, 1.0, 0.0)\n",
    "np.save(\"array_generated\", samples_arr, allow_pickle=True)"
   ]
  },
  {
   "cell_type": "code",
   "execution_count": 75,
   "id": "e0824150",
   "metadata": {
    "pycharm": {
     "name": "#%%\n"
    }
   },
   "outputs": [
    {
     "data": {
      "image/png": "[encoded data removed]",
      "text/plain": [
       "<Figure size 432x288 with 1 Axes>"
      ]
     },
     "metadata": {
      "needs_background": "light"
     },
     "output_type": "display_data"
    }
   ],
   "source": [
    "plt.imshow(samples_arr[2], 'gray')\n",
    "plt.axis(False)\n",
    "plt.grid(False)\n",
    "plt.savefig(r\"C:\\Users\\algocompretto\\Downloads\\im2.png\", dpi=500,\n",
    "           bbox_inches='tight')"
   ]
  },
  {
   "cell_type": "markdown",
   "source": [
    "# Convert `numpy` array to `gslib` format"
   ],
   "metadata": {
    "collapsed": false,
    "pycharm": {
     "name": "#%% md\n"
    }
   }
  },
  {
   "cell_type": "code",
   "execution_count": null,
   "outputs": [],
   "source": [],
   "metadata": {
    "collapsed": false,
    "pycharm": {
     "name": "#%%\n"
    }
   }
  },
  {
   "cell_type": "markdown",
   "source": [
    "# SNESIM program"
   ],
   "metadata": {
    "collapsed": false,
    "pycharm": {
     "name": "#%% md\n"
    }
   }
  },
  {
   "cell_type": "code",
   "execution_count": 50,
   "id": "46e5bc29",
   "metadata": {
    "pycharm": {
     "name": "#%%\n"
    }
   },
   "outputs": [],
   "source": [
    "# import numpy\n",
    "# import pygeostat as gs\n",
    "#\n",
    "# from src.helpers.funcs import *\n",
    "#\n",
    "# snesim_model = gs.Program(program=\"gan_bin\\\\snesim.exe\")\n",
    "#\n",
    "# for idx, im in enumerate(os.listdir(\"gan_bin/\")):\n",
    "#     if im.endswith('.out'):\n",
    "#         par_string = f'''\n",
    "#                 Parameters for SNESIM\n",
    "#                  ***********************\n",
    "#\n",
    "#         START OF PARAMETERS:\n",
    "#         samples50.out             - file with original data\n",
    "#         1  2  3  4                    - columns for x, y, z, variable\n",
    "#         2                             - number of categories\n",
    "#         0   1                         - category codes\n",
    "#         0.7  0.3                      - (target) global pdf\n",
    "#         0                             - use (target) vertical proportions (0=no, 1=yes)\n",
    "#         vertprop.dat                  - file with target vertical proportions\n",
    "#         0                             - servosystem parameter (0=no correction)\n",
    "#         -1                            - debugging level: 0,1,2,3\n",
    "#         nsnesim.dbg                    - debugging file\n",
    "#         {im.split('.')[0]+'_snesim'}.out    - file for simulation output\n",
    "#         1                             - number of realizations to generate\n",
    "#         150    0.5    1.0             - nx,xmn,xsiz\n",
    "#         150    0.5    1.0             - ny,ymn,ysiz\n",
    "#         1     0.5    1.0              - nz,zmn,zsiz\n",
    "#         303258                        - random number seed\n",
    "#         30                            - max number of conditioning primary data\n",
    "#         10                            - min. replicates number\n",
    "#         0 0                           - condtion to LP (0=no, 1=yes), flag for iauto\n",
    "#         1.0 1.0                       - two weighting factors to combine P(A|B) and P(A|C)\n",
    "#         localprop.dat                 - file for local proportions\n",
    "#         0                             - condition to rotation and affinity (0=no, 1=yes)\n",
    "#         rotangle.dat                  - file for rotation and affinity\n",
    "#         3                             - number of affinity categories\n",
    "#         1.0  1.0  1.0                 - affinity factors (X,Y,Z)\n",
    "#         1.0  0.6  1.0                 - affinity factors\n",
    "#         1.0  2.0  1.0                 - affinity factors\n",
    "#         6                             - number of multiple grids\n",
    "#         gan_bin/{im}          - file for training image\n",
    "#         150  150  1                   - training image dimensions: nxtr, nytr, nztr\n",
    "#         1                             - column for training variable\n",
    "#         10.0   10.0   5.0             - maximum search radii (hmax,hmin,vert)\n",
    "#         0.0    0.0   0.0              - angles for search ellipsoid\n",
    "#         '''\n",
    "#         #print(par_string)\n",
    "#         snesim_model.run(par_string)\n",
    "#\n",
    "# # Setting the cat dictionary\n",
    "# gs.Parameters['data.catdict'] = {1: 'Sandstone', 0: 'Shale'}\n",
    "# gs.Parameters.describe('data.catdict')\n",
    "#\n",
    "# gs.Parameters['data.griddef'] = gs.GridDef([150, 0.5, 1.0,\n",
    "#                                             150, 0.5, 1.0,\n",
    "#                                             1.0, 0.5, 1.0])\n",
    "#\n",
    "# # Default plot settings\n",
    "# gs.PlotStyle['font.size'] = 13\n",
    "# gs.PlotStyle['figure.figsize'] = (16, 9)"
   ]
  },
  {
   "cell_type": "code",
   "execution_count": null,
   "id": "321aeae0",
   "metadata": {
    "pycharm": {
     "name": "#%%\n"
    }
   },
   "outputs": [],
   "source": []
  }
 ],
 "metadata": {
  "kernelspec": {
   "display_name": "Python 3",
   "language": "python",
   "name": "python3"
  },
  "language_info": {
   "codemirror_mode": {
    "name": "ipython",
    "version": 3
   },
   "file_extension": ".py",
   "mimetype": "text/x-python",
   "name": "python",
   "nbconvert_exporter": "python",
   "pygments_lexer": "ipython3",
   "version": "3.8.10"
  }
 },
 "nbformat": 4,
 "nbformat_minor": 5
}