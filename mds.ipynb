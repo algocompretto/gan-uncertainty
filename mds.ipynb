{
 "cells": [
  {
   "cell_type": "code",
   "execution_count": 2,
   "metadata": {},
   "outputs": [],
   "source": [
    "from sklearn.manifold import MDS\n",
    "from matplotlib import pyplot as plt\n",
    "import sklearn.datasets as dt\n",
    "import seaborn as sns         \n",
    "import numpy as np\n",
    "from PIL import Image\n",
    "from sklearn.metrics.pairwise import manhattan_distances, euclidean_distances\n",
    "from matplotlib.offsetbox import OffsetImage, AnnotationBbox\n",
    "import glob"
   ]
  },
  {
   "cell_type": "code",
   "execution_count": 5,
   "metadata": {},
   "outputs": [],
   "source": [
    "def mapData(dist_matrix, X, y, metric, title):\n",
    "    mds = MDS(metric=metric, dissimilarity='precomputed', random_state=0)\n",
    "    # Get the embeddings\n",
    "    pts = mds.fit_transform(dist_matrix)\n",
    "    # Plot the embedding, colored according to the class of the points\n",
    "    fig = plt.figure(2, (15,6))\n",
    "    ax = fig.add_subplot(1,2,1)    \n",
    "    ax = sns.scatterplot(x=pts[:, 0], y=pts[:, 1],\n",
    "                         hue=y, palette=['r', 'g', 'b', 'c'])\n",
    "\n",
    "    # Add the second plot\n",
    "    ax = fig.add_subplot(1,2,2)\n",
    "    # Plot the points again\n",
    "    plt.scatter(pts[:, 0], pts[:, 1])\n",
    "    \n",
    "    # Annotate each point by its corresponding face image\n",
    "    for x, ind in zip(X, range(pts.shape[0])):\n",
    "        im = x.reshape(64,64)\n",
    "        imagebox = OffsetImage(im, zoom=0.3, cmap=plt.cm.gray)\n",
    "        i = pts[ind, 0]\n",
    "        j = pts[ind, 1]\n",
    "        ab = AnnotationBbox(imagebox, (i, j), frameon=False)\n",
    "        ax.add_artist(ab)\n",
    "    plt.title(title)    \n",
    "    plt.show()"
   ]
  },
  {
   "cell_type": "code",
   "execution_count": 6,
   "metadata": {},
   "outputs": [],
   "source": [
    "filelist = glob.glob('data_generated/*.png')\n",
    "x = np.array([np.array(Image.open(fname).convert('L')) for fname in filelist])"
   ]
  },
  {
   "cell_type": "code",
   "execution_count": 34,
   "metadata": {},
   "outputs": [
    {
     "ename": "AssertionError",
     "evalue": "",
     "output_type": "error",
     "traceback": [
      "\u001b[1;31m---------------------------------------------------------------------------\u001b[0m",
      "\u001b[1;31mAssertionError\u001b[0m                            Traceback (most recent call last)",
      "\u001b[1;32mc:\\Users\\Gustavo Scholze\\gan-for-mps\\mds.ipynb Cell 4'\u001b[0m in \u001b[0;36m<cell line: 79>\u001b[1;34m()\u001b[0m\n\u001b[0;32m     <a href='vscode-notebook-cell:/c%3A/Users/Gustavo%20Scholze/gan-for-mps/mds.ipynb#ch0000006?line=75'>76</a>\u001b[0m     _ \u001b[39m=\u001b[39m plt\u001b[39m.\u001b[39mshow()\n\u001b[0;32m     <a href='vscode-notebook-cell:/c%3A/Users/Gustavo%20Scholze/gan-for-mps/mds.ipynb#ch0000006?line=77'>78</a>\u001b[0m indexes \u001b[39m=\u001b[39m \u001b[39mrange\u001b[39m(\u001b[39m10\u001b[39m)\n\u001b[1;32m---> <a href='vscode-notebook-cell:/c%3A/Users/Gustavo%20Scholze/gan-for-mps/mds.ipynb#ch0000006?line=78'>79</a>\u001b[0m show_image_list(x[indexes], [\u001b[39m\"\u001b[39;49m\u001b[39mGenerated images\u001b[39;49m\u001b[39m\"\u001b[39;49m]\u001b[39m*\u001b[39;49m\u001b[39m10\u001b[39;49m, list_cmaps\u001b[39m=\u001b[39;49m[\u001b[39m'\u001b[39;49m\u001b[39mgray\u001b[39;49m\u001b[39m'\u001b[39;49m]\u001b[39m*\u001b[39;49m\u001b[39m10\u001b[39;49m, num_cols\u001b[39m=\u001b[39;49m\u001b[39m5\u001b[39;49m)\n",
      "\u001b[1;32mc:\\Users\\Gustavo Scholze\\gan-for-mps\\mds.ipynb Cell 4'\u001b[0m in \u001b[0;36mshow_image_list\u001b[1;34m(list_images, list_titles, list_cmaps, grid, num_cols, figsize, title_fontsize)\u001b[0m\n\u001b[0;32m     <a href='vscode-notebook-cell:/c%3A/Users/Gustavo%20Scholze/gan-for-mps/mds.ipynb#ch0000006?line=13'>14</a>\u001b[0m \u001b[39mdef\u001b[39;00m \u001b[39mshow_image_list\u001b[39m(list_images, list_titles\u001b[39m=\u001b[39m\u001b[39mNone\u001b[39;00m, list_cmaps\u001b[39m=\u001b[39m\u001b[39mNone\u001b[39;00m, grid\u001b[39m=\u001b[39m\u001b[39mTrue\u001b[39;00m, num_cols\u001b[39m=\u001b[39m\u001b[39m2\u001b[39m, figsize\u001b[39m=\u001b[39m(\u001b[39m20\u001b[39m, \u001b[39m10\u001b[39m), title_fontsize\u001b[39m=\u001b[39m\u001b[39m30\u001b[39m):\n\u001b[0;32m     <a href='vscode-notebook-cell:/c%3A/Users/Gustavo%20Scholze/gan-for-mps/mds.ipynb#ch0000006?line=14'>15</a>\u001b[0m     \u001b[39m'''\u001b[39;00m\n\u001b[0;32m     <a href='vscode-notebook-cell:/c%3A/Users/Gustavo%20Scholze/gan-for-mps/mds.ipynb#ch0000006?line=15'>16</a>\u001b[0m \u001b[39m    Shows a grid of images, where each image is a Numpy array. The images can be either\u001b[39;00m\n\u001b[0;32m     <a href='vscode-notebook-cell:/c%3A/Users/Gustavo%20Scholze/gan-for-mps/mds.ipynb#ch0000006?line=16'>17</a>\u001b[0m \u001b[39m    RGB or grayscale.\u001b[39;00m\n\u001b[1;32m   (...)\u001b[0m\n\u001b[0;32m     <a href='vscode-notebook-cell:/c%3A/Users/Gustavo%20Scholze/gan-for-mps/mds.ipynb#ch0000006?line=33'>34</a>\u001b[0m \u001b[39m        Value to be passed to set_title().\u001b[39;00m\n\u001b[0;32m     <a href='vscode-notebook-cell:/c%3A/Users/Gustavo%20Scholze/gan-for-mps/mds.ipynb#ch0000006?line=34'>35</a>\u001b[0m \u001b[39m    '''\u001b[39;00m\n\u001b[1;32m---> <a href='vscode-notebook-cell:/c%3A/Users/Gustavo%20Scholze/gan-for-mps/mds.ipynb#ch0000006?line=36'>37</a>\u001b[0m     \u001b[39massert\u001b[39;00m \u001b[39misinstance\u001b[39m(list_images, \u001b[39mlist\u001b[39m)\n\u001b[0;32m     <a href='vscode-notebook-cell:/c%3A/Users/Gustavo%20Scholze/gan-for-mps/mds.ipynb#ch0000006?line=37'>38</a>\u001b[0m     \u001b[39massert\u001b[39;00m \u001b[39mlen\u001b[39m(list_images) \u001b[39m>\u001b[39m \u001b[39m0\u001b[39m\n\u001b[0;32m     <a href='vscode-notebook-cell:/c%3A/Users/Gustavo%20Scholze/gan-for-mps/mds.ipynb#ch0000006?line=38'>39</a>\u001b[0m     \u001b[39massert\u001b[39;00m \u001b[39misinstance\u001b[39m(list_images[\u001b[39m0\u001b[39m], np\u001b[39m.\u001b[39mndarray)\n",
      "\u001b[1;31mAssertionError\u001b[0m: "
     ]
    }
   ],
   "source": [
    "import matplotlib.pyplot as plt\n",
    "import numpy as np\n",
    "\n",
    "def img_is_color(img):\n",
    "\n",
    "    if len(img.shape) == 3:\n",
    "        # Check the color channels to see if they're all the same.\n",
    "        c1, c2, c3 = img[:, : , 0], img[:, :, 1], img[:, :, 2]\n",
    "        if (c1 == c2).all() and (c2 == c3).all():\n",
    "            return True\n",
    "\n",
    "    return False\n",
    "\n",
    "def show_image_list(list_images, list_titles=None, list_cmaps=None, grid=True, num_cols=2, figsize=(20, 10), title_fontsize=30):\n",
    "    '''\n",
    "    Shows a grid of images, where each image is a Numpy array. The images can be either\n",
    "    RGB or grayscale.\n",
    "    Parameters:\n",
    "    ----------\n",
    "    images: list\n",
    "        List of the images to be displayed.\n",
    "    list_titles: list or None\n",
    "        Optional list of titles to be shown for each image.\n",
    "    list_cmaps: list or None\n",
    "        Optional list of cmap values for each image. If None, then cmap will be\n",
    "        automatically inferred.\n",
    "    grid: boolean\n",
    "        If True, show a grid over each image\n",
    "    num_cols: int\n",
    "        Number of columns to show.\n",
    "    figsize: tuple of width, height\n",
    "        Value to be passed to pyplot.figure()\n",
    "    title_fontsize: int\n",
    "        Value to be passed to set_title().\n",
    "    '''\n",
    "\n",
    "    #assert isinstance(list_images, list)\n",
    "    assert len(list_images) > 0\n",
    "    assert isinstance(list_images[0], np.ndarray)\n",
    "\n",
    "    if list_titles is not None:\n",
    "        assert isinstance(list_titles, list)\n",
    "        assert len(list_images) == len(list_titles), '%d imgs != %d titles' % (len(list_images), len(list_titles))\n",
    "\n",
    "    if list_cmaps is not None:\n",
    "        assert isinstance(list_cmaps, list)\n",
    "        assert len(list_images) == len(list_cmaps), '%d imgs != %d cmaps' % (len(list_images), len(list_cmaps))\n",
    "\n",
    "    num_images  = len(list_images)\n",
    "    num_cols    = min(num_images, num_cols)\n",
    "    num_rows    = int(num_images / num_cols) + (1 if num_images % num_cols != 0 else 0)\n",
    "\n",
    "    # Create a grid of subplots.\n",
    "    fig, axes = plt.subplots(num_rows, num_cols, figsize=figsize)\n",
    "    \n",
    "    # Create list of axes for easy iteration.\n",
    "    if isinstance(axes, np.ndarray):\n",
    "        list_axes = list(axes.flat)\n",
    "    else:\n",
    "        list_axes = [axes]\n",
    "\n",
    "    for i in range(num_images):\n",
    "\n",
    "        img    = list_images[i]\n",
    "        title  = list_titles[i] if list_titles is not None else 'Image %d' % (i)\n",
    "        cmap   = list_cmaps[i] if list_cmaps is not None else (None if img_is_color(img) else 'gray')\n",
    "        \n",
    "        list_axes[i].imshow(img, cmap=cmap)\n",
    "        list_axes[i].set_title(title, fontsize=title_fontsize) \n",
    "        list_axes[i].grid(grid)\n",
    "\n",
    "    for i in range(num_images, len(list_axes)):\n",
    "        list_axes[i].set_visible(False)\n",
    "\n",
    "    fig.tight_layout()\n",
    "    _ = plt.show()\n",
    "\n",
    "indexes = range(10)\n",
    "show_image_list(x[indexes], [\"Generated images\"]*10, list_cmaps=['gray']*10, num_cols=5)"
   ]
  },
  {
   "cell_type": "code",
   "execution_count": 36,
   "metadata": {},
   "outputs": [
    {
     "data": {
      "text/plain": [
       "array([[[ 62,  63,  64, ..., 191, 134, 126],\n",
       "        [ 73,  73,  90, ..., 128, 102,  83],\n",
       "        [ 78,  49,  60, ...,  97,  77,  78],\n",
       "        ...,\n",
       "        [ 52,  85,  74, ...,  70,  79,  70],\n",
       "        [ 55,  95,  57, ...,  60,  53,  82],\n",
       "        [ 73, 104,  90, ...,  34,  61,  43]],\n",
       "\n",
       "       [[ 49,  42,  32, ..., 181, 175, 134],\n",
       "        [ 13,  38,  45, ..., 139, 149, 122],\n",
       "        [ 36,  26,  33, ..., 139,  88,  69],\n",
       "        ...,\n",
       "        [ 23,  60,  41, ...,  22,  35,  38],\n",
       "        [  8,  32,  44, ...,  22,  34,  37],\n",
       "        [ 47,  18,  35, ...,  56,  53,  45]],\n",
       "\n",
       "       [[ 30,  28,  14, ..., 205, 187, 162],\n",
       "        [ 24,  20,  21, ..., 183, 162, 139],\n",
       "        [ 21,  19,  18, ..., 152,  94, 102],\n",
       "        ...,\n",
       "        [ 26,  17,  24, ...,  28,  28,  11],\n",
       "        [ 29,  24,  14, ...,  26,  24,  14],\n",
       "        [ 11,  44,  27, ...,  17,  26,  23]],\n",
       "\n",
       "       ...,\n",
       "\n",
       "       [[217, 207, 174, ...,  70,  51,  81],\n",
       "        [227, 174, 187, ...,  67,  43,  45],\n",
       "        [128, 101, 149, ...,  51,  47,  50],\n",
       "        ...,\n",
       "        [ 50,  35,   9, ...,  15,   4,   5],\n",
       "        [ 29,  28,   9, ...,  13,   6,  10],\n",
       "        [ 26,  39,   8, ...,  14,  11,   8]],\n",
       "\n",
       "       [[ 78,  99,  22, ..., 203,  37,  41],\n",
       "        [ 74,  50,  18, ..., 144,  23,  13],\n",
       "        [  4,   3,   3, ...,  22,   3,   3],\n",
       "        ...,\n",
       "        [  0,   0,   0, ...,   0,   0,   0],\n",
       "        [  0,   0,   0, ...,   0,   0,   0],\n",
       "        [  0,   0,   0, ...,   0,   0,   0]],\n",
       "\n",
       "       [[ 40,  46,  37, ..., 109,  88, 114],\n",
       "        [ 58,  31,  25, ..., 110, 125, 145],\n",
       "        [ 24,  20,  13, ..., 100, 100,  75],\n",
       "        ...,\n",
       "        [128, 123,  38, ...,  12,  18,  18],\n",
       "        [165, 127,  55, ...,  23,  28,  22],\n",
       "        [141, 119,  47, ...,  24,  35,  33]]], dtype=uint8)"
      ]
     },
     "execution_count": 36,
     "metadata": {},
     "output_type": "execute_result"
    }
   ],
   "source": [
    "x"
   ]
  },
  {
   "cell_type": "code",
   "execution_count": 13,
   "metadata": {},
   "outputs": [],
   "source": [
    "filelist_target = glob.glob('TI/*.png')\n",
    "target_img = np.array([np.array(Image.open(fname).convert('L')) for fname in filelist_target])"
   ]
  },
  {
   "cell_type": "code",
   "execution_count": 17,
   "metadata": {},
   "outputs": [
    {
     "data": {
      "image/png": "[encoded data removed]",
      "text/plain": [
       "<Figure size 432x288 with 1 Axes>"
      ]
     },
     "metadata": {
      "needs_background": "light"
     },
     "output_type": "display_data"
    }
   ],
   "source": [
    "plt.imshow(target_img[0], cmap='gray')\n",
    "plt.title('Target Image')\n",
    "plt.axis('off')\n",
    "plt.show()"
   ]
  },
  {
   "cell_type": "code",
   "execution_count": null,
   "metadata": {},
   "outputs": [],
   "source": [
    "faces = dt.fetch_olivetti_faces()\n",
    "X_faces = faces.data\n",
    "y_faces = faces.target\n",
    "ind = y_faces < 4\n",
    "X_faces = X_faces[ind,:]\n",
    "y_faces = y_faces[ind]"
   ]
  }
 ],
 "metadata": {
  "interpreter": {
   "hash": "735d16d08993da40f33618c41117dd0c91e9b4ae6c145b45988893cfa0fe876a"
  },
  "kernelspec": {
   "display_name": "Python 3.10.2 ('.venv': venv)",
   "language": "python",
   "name": "python3"
  },
  "language_info": {
   "codemirror_mode": {
    "name": "ipython",
    "version": 3
   },
   "file_extension": ".py",
   "mimetype": "text/x-python",
   "name": "python",
   "nbconvert_exporter": "python",
   "pygments_lexer": "ipython3",
   "version": "3.10.2"
  },
  "orig_nbformat": 4
 },
 "nbformat": 4,
 "nbformat_minor": 2
}
