{
  "cells": [
    {
      "cell_type": "markdown",
      "metadata": {
        "id": "KQ2jquxS0Ebo"
      },
      "source": [
        "# Configuring MPSlib in Colab"
      ]
    },
    {
      "cell_type": "code",
      "execution_count": 1,
      "metadata": {
        "colab": {
          "base_uri": "https://localhost:8080/"
        },
        "id": "s1skhePQLgvt",
        "outputId": "20339ca6-36f2-4aa7-cd21-1c1f992bf64e"
      },
      "outputs": [
        {
          "name": "stdout",
          "output_type": "stream",
          "text": [
            "True\n",
            "mpslib cannot be loaded. trying to install it.\n",
            "  % Total    % Received % Xferd  Average Speed   Time    Time     Time  Current\n",
            "                                 Dload  Upload   Total   Spent    Left  Speed\n",
            "100   367  100   367    0     0    981      0 --:--:-- --:--:-- --:--:--   981\n",
            "Cloning into 'mpslib'...\n",
            "remote: Enumerating objects: 4328, done.\u001b[K\n",
            "remote: Counting objects: 100% (925/925), done.\u001b[K\n",
            "remote: Compressing objects: 100% (375/375), done.\u001b[K\n",
            "remote: Total 4328 (delta 576), reused 894 (delta 547), pack-reused 3403\u001b[K\n",
            "Receiving objects: 100% (4328/4328), 30.55 MiB | 10.75 MiB/s, done.\n",
            "Resolving deltas: 100% (2990/2990), done.\n",
            "make -C mpslib\n",
            "make[1]: Entering directory '/content/mpslib/mpslib'\n",
            "g++ -o ENESIM.o -I. -O3 -march=native -std=c++11 -c ENESIM.cpp\n",
            "g++ -o Coords3D.o -I. -O3 -march=native -std=c++11 -c Coords3D.cpp\n",
            "g++ -o MPSAlgorithm.o -I. -O3 -march=native -std=c++11 -c MPSAlgorithm.cpp\n",
            "g++ -o IO.o -I. -O3 -march=native -std=c++11 -c IO.cpp\n",
            "g++ -o Coords4D.o -I. -O3 -march=native -std=c++11 -c Coords4D.cpp\n",
            "g++ -o SNESIM.o -I. -O3 -march=native -std=c++11 -c SNESIM.cpp\n",
            "g++ -o Utility.o -I. -O3 -march=native -std=c++11 -c Utility.cpp\n",
            "ar rsv mpslib.a ENESIM.o Coords3D.o MPSAlgorithm.o IO.o Coords4D.o SNESIM.o Utility.o\n",
            "ar: creating mpslib.a\n",
            "a - ENESIM.o\n",
            "a - Coords3D.o\n",
            "a - MPSAlgorithm.o\n",
            "a - IO.o\n",
            "a - Coords4D.o\n",
            "a - SNESIM.o\n",
            "a - Utility.o\n",
            "make[1]: Leaving directory '/content/mpslib/mpslib'\n",
            "g++ -O3 -march=native -std=c++11 -Wl,--no-as-needed mps_genesim.cpp ENESIM_GENERAL.cpp mpslib/mpslib.a -o mps_genesim -I mpslib/ -lstdc++ -lpthread\n",
            "g++ -O3 -march=native -std=c++11 -Wl,--no-as-needed mps_snesim_list.cpp SNESIMList.cpp mpslib/mpslib.a -o mps_snesim_list -I mpslib/ -lstdc++ -lpthread\n",
            "g++ -O3 -march=native -std=c++11 -Wl,--no-as-needed mps_snesim_tree.cpp SNESIMTree.cpp mpslib/mpslib.a -o mps_snesim_tree -I mpslib/ -lstdc++ -lpthread\n",
            "\n",
            "Linux\n",
            "x86_64\n",
            "Processing /content/mpslib/scikit-mps\n",
            "\u001b[33m  DEPRECATION: A future pip version will change local packages to be built in-place without first copying to a temporary directory. We recommend you use --use-feature=in-tree-build to test your packages with this new behavior before it becomes the default.\n",
            "   pip 21.3 will remove support for this functionality. You can find discussion regarding this at https://github.com/pypa/pip/issues/7555.\u001b[0m\n",
            "Requirement already satisfied: numpy>=1.0.2 in /usr/local/lib/python3.7/dist-packages (from scikit-mps==0.1.0) (1.21.5)\n",
            "Requirement already satisfied: matplotlib>=1.0.0 in /usr/local/lib/python3.7/dist-packages (from scikit-mps==0.1.0) (3.2.2)\n",
            "Requirement already satisfied: kiwisolver>=1.0.1 in /usr/local/lib/python3.7/dist-packages (from matplotlib>=1.0.0->scikit-mps==0.1.0) (1.3.2)\n",
            "Requirement already satisfied: pyparsing!=2.0.4,!=2.1.2,!=2.1.6,>=2.0.1 in /usr/local/lib/python3.7/dist-packages (from matplotlib>=1.0.0->scikit-mps==0.1.0) (3.0.7)\n",
            "Requirement already satisfied: python-dateutil>=2.1 in /usr/local/lib/python3.7/dist-packages (from matplotlib>=1.0.0->scikit-mps==0.1.0) (2.8.2)\n",
            "Requirement already satisfied: cycler>=0.10 in /usr/local/lib/python3.7/dist-packages (from matplotlib>=1.0.0->scikit-mps==0.1.0) (0.11.0)\n",
            "Requirement already satisfied: six>=1.5 in /usr/local/lib/python3.7/dist-packages (from python-dateutil>=2.1->matplotlib>=1.0.0->scikit-mps==0.1.0) (1.15.0)\n",
            "Building wheels for collected packages: scikit-mps\n",
            "  Building wheel for scikit-mps (setup.py) ... \u001b[?25l\u001b[?25hdone\n",
            "  Created wheel for scikit-mps: filename=scikit_mps-0.1.0-py2.py3-none-any.whl size=18966 sha256=a127b3ae2e9a107d07764eb634bca07fb4fac79d5331c648a7b6e3b67305ff05\n",
            "  Stored in directory: /root/.cache/pip/wheels/40/09/35/55e582528858190de0c319a2f486c8c621c5475c5c0ae0939f\n",
            "Successfully built scikit-mps\n",
            "Installing collected packages: scikit-mps\n",
            "Successfully installed scikit-mps-0.1.0\n",
            "Using MPSlib installed in /content/mpslib \n"
          ]
        }
      ],
      "source": [
        "module_name='mpslib'\n",
        "try:\n",
        "    __import__(module_name)\n",
        "    print('%s allready installed. skipping installation.' % module_name)\n",
        "    exe_folder = ''\n",
        "        \n",
        "except ImportError:\n",
        "    import sys\n",
        "    is_colab = 'google.colab' in sys.modules\n",
        "    print (is_colab)\n",
        "    if is_colab:\n",
        "        import os\n",
        "        os.chdir('/content')\n",
        "        print('%s cannot be loaded. trying to install it.' % module_name)\n",
        "        !curl -O https://raw.githubusercontent.com/ergosimulation/mpslib/master/install_latest_mpslib.sh\n",
        "        !sh ./install_latest_mpslib.sh\n",
        "        os.chdir('/content')\n",
        "        exe_folder = '/content/mpslib'\n",
        "    else:\n",
        "        print('Pleas install MPSlib and scikit-mps from http://github.com/ergosimulation/mpslib/')\n",
        "    \n",
        "import sys\n",
        "is_colab = 'google.colab' in sys.modules\n",
        "if is_colab:\n",
        "    exe_folder = '/content/mpslib'\n",
        "else:\n",
        "  exe_folder = ''\n",
        "\n",
        "print(\"Using MPSlib installed in %s \" % exe_folder)\n"
      ]
    },
    {
      "cell_type": "code",
      "execution_count": 2,
      "metadata": {
        "colab": {
          "base_uri": "https://localhost:8080/"
        },
        "id": "9-7wk7lSU2Hz",
        "outputId": "fa273d56-e540-4811-fade-751d174e2514"
      },
      "outputs": [
        {
          "name": "stdout",
          "output_type": "stream",
          "text": [
            "Using MPSlib installed in /content/mpslib.\n"
          ]
        }
      ],
      "source": [
        "!mv \"/content/mpslib\" \"/usr/local/lib/python3.7\"\n",
        "print(f\"Using MPSlib installed in {exe_folder}.\")\n",
        "# Copying algorithms to previous folder\n",
        "!cp -n \"/usr/local/lib/python3.7/mpslib/mps_snesim_tree\" \"/usr/local/lib/python3.7/mps_snesim_tree\"\n",
        "!cp -n \"/usr/local/lib/python3.7/mpslib/mps_genesim\" \"/usr/local/lib/python3.7/mps_genesim\""
      ]
    },
    {
      "cell_type": "code",
      "execution_count": 3,
      "metadata": {
        "id": "inlht2HeLgvv"
      },
      "outputs": [],
      "source": [
        "import mpslib as mps\n",
        "import matplotlib.pyplot as plt\n",
        "import numpy as np\n",
        "import scipy as sp"
      ]
    },
    {
      "cell_type": "markdown",
      "metadata": {
        "id": "y0_LhF2VhiJW"
      },
      "source": [
        "## Helpful functions"
      ]
    },
    {
      "cell_type": "code",
      "execution_count": 4,
      "metadata": {
        "id": "uh2OyjNvhkQo"
      },
      "outputs": [],
      "source": [
        "def plot(image: np.array, title: str):\n",
        "    plt.figure(figsize=(16,9))\n",
        "    plt.axis('off')\n",
        "    plt.title(f'{title}')\n",
        "    plt.imshow(image, cmap='gray')"
      ]
    },
    {
      "cell_type": "markdown",
      "metadata": {
        "id": "EjbK9_ZHp1JF"
      },
      "source": [
        "# Training Image visualization"
      ]
    },
    {
      "cell_type": "code",
      "execution_count": 5,
      "metadata": {
        "colab": {
          "base_uri": "https://localhost:8080/",
          "height": 554
        },
        "id": "gkyw7b8hlXVQ",
        "outputId": "2fdcf2a3-6704-459d-9520-24b86578b6af"
      },
      "outputs": [
        {
          "name": "stdout",
          "output_type": "stream",
          "text": [
            "Beginning download of https://github.com/GAIA-UNIL/trainingimages/raw/master/MPS_book_data/Part2/ti_strebelle.sgems to ti_strebelle.dat\n"
          ]
        },
        {
          "data": {
            "image/png": "[encoded data removed]",
            "text/plain": [
              "<Figure size 1152x648 with 1 Axes>"
            ]
          },
          "metadata": {
            "needs_background": "light"
          },
          "output_type": "display_data"
        }
      ],
      "source": [
        "# Get training images from GAIA-UNIL repo\n",
        "TI, TI_filename = mps.trainingimages.strebelle(di=2, coarse3d=1)\n",
        "\n",
        "plot(TI[:,:,0].T, TI_filename)"
      ]
    },
    {
      "cell_type": "markdown",
      "metadata": {
        "id": "-9-LCfdzZK3n"
      },
      "source": [
        "# Creating the algorithm and setting parameters"
      ]
    },
    {
      "cell_type": "markdown",
      "metadata": {
        "id": "8zzlsU1Nt-D3"
      },
      "source": [
        "The following entries appear in all parameter files:\n",
        "<br><br>\n",
        "`Number of realizations`: The number of realizations to run and generate.\n",
        "<br><br>\n",
        "`random_seed`: An integer that determines the random seed. A fixed value will return the same realizations for each run.\n",
        "<br>\n",
        "**Observation: Assigning `0` to `random_seed` will generate a new seed at each iteration**\n",
        "<br><br>\n",
        "`simulation_grid_size`: The dimensions of the simulation grid cell, a `numpy` array with 3 dimensions - X, Y, Z.\n",
        "<br><br>\n",
        "`origin`: Simulation grid origin X, Y, Z, must be a `numpy` array of integers. Refers to the value of the coordinates in the X, Y, and Z direction.\n",
        "<br><br>\n",
        "`grid_cell_size`: The size of each pixel in the simulation grid, in the X, Y, and Z direction.\n",
        "<br><br>\n",
        "`ti_fnam`: The name of the training image file (no spaces allowed). It must be in GLSIB/EAS ASCII format, and the first line (the 'title') must contain the dimension of the traning file as nX, nY, nZ.\n",
        "<br><br>\n",
        "`out_folder`: The path to the folder containing all output. Use forward slash '/' to separate folders - also, spaces in name not allowed.\n",
        "<br><br>\n",
        "`shuffle_simulation_grid`: Shuffle simulation grid path:\n",
        "- `0`: sequential path through simulation grid (possibly a multiple grid).\n",
        "- `1`: random path through simulation grid.\n",
        "- `2`: preferential path.\n",
        "<br><br>\n",
        "`n_max_cpdf_count`: The maximum number of counts for conditional PDF.\n",
        "<br><br>\n",
        "`shuffle_ti_grid`: Shuffle Training Image path - does not affect SNESIM type algrothms.\n",
        "- `0`: sequential path\n",
        "- `1`: random path\n",
        "<br><br>\n",
        "`hard_data_fnam`: Hard data filename - this file consists of an EAS archive with 4 columns: X, Y, Z, and D\n",
        "<br><br>\n",
        "`hard_data_search_radius`: World units around the search radius for hard data.\n",
        "<br><br>\n",
        "`soft_data_categories`: Soft data categories, separated by `;`.\n",
        "<br><br>\n",
        "`soft_data_fnam`: Soft data filenames - separated by `;` only need `number_categories - 1` grids\n",
        "<br><br>\n",
        "`n_threads`: Refers to the quantity of CPUs to use for simulation (minimum 1, maximum 8 - depends on your CPU)\n",
        "Currently not used.\n",
        "<br><br>\n",
        "`debug_level`: Refers to the level of debugging during processing. \n",
        "- `-2`: No information is written to screen or files on disk\n",
        "- `-1`: + Simulation output is written to files on disk.\n",
        "- `0`: + Information about simulation is written to screen\n",
        "- `1`: + Simulated realization(s) are shown in terminal\n",
        "- `2`: + Extra information is written to disk (Random path, ...)\n",
        "- `3`: + Debug information written to screen (in general not useful for an end-user)"
      ]
    },
    {
      "cell_type": "markdown",
      "metadata": {
        "id": "Hg3_zPpFvxTA"
      },
      "source": [
        "# Estimation"
      ]
    },
    {
      "cell_type": "code",
      "execution_count": 6,
      "metadata": {
        "colab": {
          "base_uri": "https://localhost:8080/",
          "height": 720
        },
        "id": "NHwuR6BzdF7Z",
        "outputId": "580bc29c-d414-4a3a-86c1-944a85016960"
      },
      "outputs": [
        {
          "name": "stdout",
          "output_type": "stream",
          "text": [
            "Using MPSlib installed in /usr/local/lib/python3.7 (from /usr/local/lib/python3.7/dist-packages/mpslib/mpslib.py)\n",
            "mpslib: Writing GENESIM type parameter file: mps_est.txt\n",
            "mpslib: trying to run 'mps_genesim' on 'mps_est.txt' in folder '/usr/local/lib/python3.7/mps_genesim'\n",
            "mpslib: Using the following executable to run the model: /usr/local/lib/python3.7/mps_genesim\n",
            "mpslib: trying to run  /usr/local/lib/python3.7/mps_genesim mps_est.txt\n",
            "mpslib: 'mps_genesim' ran in  217.42s \n",
            "mpslib: Reading: ti.dat_sg_0.gslib\n",
            "loading entropy from ti.dat_ent_0.gslib\n",
            "loading entropy from ti.dat_cg_0.gslib\n",
            "loading entropy from ti.dat_cg_1.gslib\n"
          ]
        },
        {
          "data": {
            "image/png": "[encoded data removed]",
            "text/plain": [
              "<Figure size 1152x648 with 1 Axes>"
            ]
          },
          "metadata": {
            "needs_background": "light"
          },
          "output_type": "display_data"
        }
      ],
      "source": [
        "import mpslib as mps\n",
        "import matplotlib.pyplot as plt\n",
        "import numpy as np\n",
        "import copy\n",
        "\n",
        "# Initialize the MPS object, using a specific algorithm\n",
        "O=mps.mpslib(method='mps_genesim', verbose_level=1)\n",
        "\n",
        "# Select number of iterations [def=1]\n",
        "O.par['n_real']=500\n",
        "O.par['n_cond']=100\n",
        "O.par['simulation_grid_size'][0]=100\n",
        "O.par['simulation_grid_size'][1]=100\n",
        "O.par['simulation_grid_size'][2]=1\n",
        "O.par['hard_data_fnam']='hard.dat'\n",
        "# Use hard data\n",
        "# Set hard data\n",
        "d_hard = np.array([[ 3, 3, 0, 1],\n",
        "                    [ 8, 8, 0, 1],\n",
        "                    [ 12, 3, 0, 1]])\n",
        "O.d_hard = d_hard\n",
        "\n",
        "\n",
        "# Set training image\n",
        "O.ti = mps.trainingimages.strebelle(di=2, coarse3d=1)[0]\n",
        "\n",
        "# Run MPSlib in Estimation mode\n",
        "O_est = copy.deepcopy(O)\n",
        "O_est.parameter_filename='mps_est.txt'\n",
        "O_est.delete_local_files() # to make sure no old data are floating around\n",
        "O_est.par['do_estimation']=1\n",
        "O_est.par['do_entropy']=1\n",
        "\n",
        "O_est.par['n_real']=1\n",
        "O_est.par['n_max_cpdf_count']=1000000 # We need ENESIM/GENESIM and not DS\n",
        "O_est.par['n_max_ite']=1000000\n",
        "O_est.remove_gslib_after_simulation=0\n",
        "\n",
        "O_est.run()\n",
        "\n",
        "D_est = mps.eas.read('ti.dat_cg_1.gslib')\n",
        "P1=D_est['Dmat'][:,:,0]\n",
        "P1=P1.transpose()\n",
        "\n",
        "D_ent = mps.eas.read('ti.dat_ent_0.gslib')\n",
        "H=D_ent['Dmat'][:,:,0]\n",
        "H=H.transpose()\n",
        "\n",
        "plot(P1, \"Estimating with MPSlib\")"
      ]
    },
    {
      "cell_type": "code",
      "execution_count": null,
      "metadata": {
        "id": "Ebg_QEwFhnG8"
      },
      "outputs": [],
      "source": []
    }
  ],
  "metadata": {
    "colab": {
      "collapsed_sections": [],
      "name": "estimating",
      "provenance": []
    },
    "interpreter": {
      "hash": "2be5faf79681da6f2a61fdfdd5405d65d042280f7fba6178067603e3a2925119"
    },
    "kernelspec": {
      "display_name": "tf",
      "language": "python",
      "name": "python3"
    },
    "language_info": {
      "codemirror_mode": {
        "name": "ipython",
        "version": 3
      },
      "file_extension": ".py",
      "mimetype": "text/x-python",
      "name": "python",
      "nbconvert_exporter": "python",
      "pygments_lexer": "ipython3",
      "version": "3.10.1"
    }
  },
  "nbformat": 4,
  "nbformat_minor": 0
}
