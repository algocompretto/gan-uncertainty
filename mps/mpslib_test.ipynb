{
  "cells": [
    {
      "cell_type": "markdown",
      "metadata": {
        "id": "KQ2jquxS0Ebo"
      },
      "source": [
        "# Configuring MPSlib in Colab"
      ]
    },
    {
      "cell_type": "code",
      "execution_count": 2,
      "metadata": {
        "id": "7K24iRbRlXVN",
        "outputId": "e6134278-4d64-4028-b3c7-34a6623b2664",
        "colab": {
          "base_uri": "https://localhost:8080/"
        }
      },
      "outputs": [
        {
          "output_type": "stream",
          "name": "stdout",
          "text": [
            "mpslib already installed - skipping installation.\n",
            "mv: cannot stat '/content/mpslib': No such file or directory\n",
            "Using MPSlib installed in /content/mpslib.\n"
          ]
        }
      ],
      "source": [
        "module_name='mpslib'\n",
        "try:\n",
        "    __import__(module_name)\n",
        "    print(f'{module_name} already installed - skipping installation.')\n",
        "    exe_folder = ''\n",
        "        \n",
        "except ImportError:\n",
        "    import sys\n",
        "    is_colab = 'google.colab' in sys.modules\n",
        "    print (is_colab)\n",
        "    if is_colab:\n",
        "        import os\n",
        "        os.chdir('/content')\n",
        "        print(f'{module_name} cannot be loaded. trying to install it.')\n",
        "        !curl -O https://raw.githubusercontent.com/ergosimulation/mpslib/master/install_latest_mpslib.sh\n",
        "        !sh ./install_latest_mpslib.sh\n",
        "        os.chdir('/content')\n",
        "        exe_folder = '/content/mpslib'\n",
        "    else:\n",
        "        print('Please install MPSlib and scikit-mps from http://github.com/ergosimulation/mpslib/')\n",
        "    \n",
        "import sys\n",
        "is_colab = 'google.colab' in sys.modules\n",
        "if is_colab:\n",
        "    exe_folder = '/content/mpslib'\n",
        "    !mv \"/content/mpslib\" \"/usr/local/lib/python3.7\"\n",
        "    print(f\"Using MPSlib installed in {exe_folder}.\")\n",
        "else:\n",
        "  exe_folder = ''"
      ]
    },
    {
      "cell_type": "code",
      "execution_count": 3,
      "metadata": {
        "id": "kEhTLJNUlXVP"
      },
      "outputs": [],
      "source": [
        "import mpslib as mps\n",
        "import matplotlib.pyplot as plt\n",
        "import numpy as np\n",
        "import scipy as sp"
      ]
    },
    {
      "cell_type": "markdown",
      "source": [
        "## Helpful functions"
      ],
      "metadata": {
        "id": "y0_LhF2VhiJW"
      }
    },
    {
      "cell_type": "code",
      "source": [
        "def plot(image: np.array, title: str):\n",
        "    plt.figure(figsize=(16,9))\n",
        "    plt.axis('off')\n",
        "    plt.title(f'{title}')\n",
        "    plt.imshow(image, cmap='gray')"
      ],
      "metadata": {
        "id": "uh2OyjNvhkQo"
      },
      "execution_count": 4,
      "outputs": []
    },
    {
      "cell_type": "markdown",
      "metadata": {
        "id": "EjbK9_ZHp1JF"
      },
      "source": [
        "# Training Image visualization"
      ]
    },
    {
      "cell_type": "code",
      "execution_count": 5,
      "metadata": {
        "id": "gkyw7b8hlXVQ",
        "outputId": "8ea3672f-0aca-4950-fce1-25a3522e53a2",
        "colab": {
          "base_uri": "https://localhost:8080/",
          "height": 573
        }
      },
      "outputs": [
        {
          "output_type": "stream",
          "name": "stdout",
          "text": [
            "Beginning download of https://github.com/GAIA-UNIL/trainingimages/raw/master/MPS_book_data/Part2/ti_strebelle.sgems to ti_strebelle.dat\n"
          ]
        },
        {
          "output_type": "display_data",
          "data": {
            "image/png": "[encoded data removed]",
            "text/plain": [
              "<Figure size 1152x648 with 1 Axes>"
            ]
          },
          "metadata": {
            "needs_background": "light"
          }
        }
      ],
      "source": [
        "# Get training images from GAIA-UNIL repo\n",
        "TI, TI_filename = mps.trainingimages.strebelle(di=2, coarse3d=1)\n",
        "\n",
        "plot(TI[:,:,0].T, TI_filename)"
      ]
    },
    {
      "cell_type": "markdown",
      "metadata": {
        "id": "ScSHgE88p5Y0"
      },
      "source": [
        "# Creating the algorithm and setting parameters\n",
        "<br><br>\n",
        "The following entries appear in all parameter files:\n",
        "<br><br>\n",
        "`Number of realizations`: The number of realizations to run and generate.\n",
        "<br><br>\n",
        "`random_seed`: An integer that determines the random seed. A fixed value will return the same realizations for each run.\n",
        "<br>\n",
        "**Observation: Assigning `0` to `random_seed` will generate a new seed at each iteration**\n",
        "<br><br>\n",
        "`simulation_grid_size`: The dimensions of the simulation grid cell, a `numpy` array with 3 dimensions - X, Y, Z.\n",
        "<br><br>\n",
        "`origin`: Simulation grid origin X, Y, Z, must be a `numpy` array of integers. Refers to the value of the coordinates in the X, Y, and Z direction.\n",
        "<br><br>\n",
        "`grid_cell_size`: The size of each pixel in the simulation grid, in the X, Y, and Z direction.\n",
        "<br><br>\n",
        "`ti_fnam`: The name of the training image file (no spaces allowed). It must be in GLSIB/EAS ASCII format, and the first line (the 'title') must contain the dimension of the traning file as 'NXxNYxNZ'.\n",
        "<br><br>\n",
        "`out_folder`: The path to the folder containing all output. Use forward slash '/' to separate folders - also, spaces in name not allowed\n",
        "<br><br>\n",
        "`shuffle_simulation_grid`: Shuffle simulation grid path (1 : random, 0 : sequential)\n",
        "+ `0`: sequential path through simulation grid (possibly a multiple grid).\n",
        "+ `1`: random path through simulation grid.\n",
        "+ `2`: preferential path.\n",
        "<br><br>\n",
        "`n_max_cpdf_count`: The maximum number of counts for conditional PDF.\n",
        "<br><br>\n",
        "`shuffle_ti_grid`: Shuffle Training Image path - does not affect SNESIM type algrothms.\n",
        "+ `0`: sequential path\n",
        "+ `1`: random path\n",
        "<br><br>\n",
        "`hard_data_fnam`: Hard data filename - this file consists of an EAS archive with 4 columns: X, Y, Z, and D\n",
        "<br><br>\n",
        "`hard_data_search_radius`: World units around the search radius for hard data.\n",
        "<br><br>\n",
        "`soft_data_categories`: Soft data categories, separated by `;`.\n",
        "<br><br>\n",
        "`soft_data_fnam`: Soft data filenames - separated by `;` only need `number_categories - 1` grids\n",
        "<br><br>\n",
        "`n_threads`: Refers to the quantity of CPUs to use for simulation (minimum 1, maximum 8 - depends on your CPU)\n",
        "Currently not used.\n",
        "<br><br>\n",
        "`debug_level`: Refers to the level of debugging during processing. \n",
        "+ `-2`: No information is written to screen or files on disk\n",
        "+ `-1`: + Simulation output is written to files on disk\n",
        "+ `0`: + Information about simulation is written to screen\n",
        "+ `1`: + Simulated realization(s) are shown in terminal\n",
        "+ `2`: + Extra information is written to disk (Random path, ...)\n",
        "+ `3`: + Debug information written to screen (in general not useful for an end-user)"
      ]
    },
    {
      "cell_type": "code",
      "execution_count": 11,
      "metadata": {
        "id": "l4QQAxzolXVR",
        "outputId": "8f154087-e4f0-45f4-d0e9-e78c1f8d538d",
        "colab": {
          "base_uri": "https://localhost:8080/"
        }
      },
      "outputs": [
        {
          "output_type": "stream",
          "name": "stdout",
          "text": [
            "Using MPSlib installed in /usr/local/lib/python3.7 (from /usr/local/lib/python3.7/dist-packages/mpslib/mpslib.py)\n"
          ]
        }
      ],
      "source": [
        "O = mps.mpslib(method='mps_snesim_tree', verbose_level=1, debug_level=-1)\n",
        "#O = mps.mpslib(method='mps_genesim')\n",
        "O.parameter_filename = 'mps.txt'\n",
        "O.par['n_real']=4\n",
        "O.par['n_cond']=4\n",
        "#O.par['template_size']=np.array([[20, 5],[20, 5],[1, 1]])\n",
        "#O.par['origin']=np.array([0,0,0])\n",
        "#O.par['simulation_grid_size']=np.array([40,20,1])\n",
        "\n",
        "# hard data\n",
        "#O.d_hard = np.array([[ 10, 5, 0, 1],\n",
        "#                     [ 30, 15, 0, 0]])\n",
        "\n",
        "# soft data\n",
        "#O.d_soft = np.array([[ 10, 15, 0, 0.9, 0.1],\n",
        "#                       [ 30, 5, 0, 0.9, 0.1]])"
      ]
    },
    {
      "cell_type": "markdown",
      "metadata": {
        "id": "T9zCWRbop8ir"
      },
      "source": [
        "## Run MPSlib"
      ]
    },
    {
      "cell_type": "code",
      "source": [
        "!cp -n \"/usr/local/lib/python3.7/mpslib/mps_snesim_tree\" \"/usr/local/lib/python3.7/mps_snesim_tree\"\n",
        "!cp -n \"/usr/local/lib/python3.7/mpslib/mps_genesim\" \"/usr/local/lib/python3.7/mps_genesim\""
      ],
      "metadata": {
        "id": "ohsx_u9oxTmc"
      },
      "execution_count": 12,
      "outputs": []
    },
    {
      "cell_type": "code",
      "execution_count": 13,
      "metadata": {
        "id": "QBjmAZohlXVS",
        "outputId": "296a3da1-a122-4017-c38a-11b138748fe5",
        "colab": {
          "base_uri": "https://localhost:8080/"
        }
      },
      "outputs": [
        {
          "output_type": "stream",
          "name": "stdout",
          "text": [
            "mpslib: writing SNESIM type parameter file: mps.txt\n",
            "mpslib: trying to run 'mps_snesim_tree' on 'mps.txt' in folder '/usr/local/lib/python3.7/mps_snesim_tree'\n",
            "mpslib: Using the following executable to run the model: /usr/local/lib/python3.7/mps_snesim_tree\n",
            "mpslib: trying to run  /usr/local/lib/python3.7/mps_snesim_tree mps.txt\n",
            "mpslib: 'mps_snesim_tree' ran in  527.26s \n",
            "mpslib: Reading: ti.dat_sg_0.gslib\n",
            "mpslib: Reading: ti.dat_sg_1.gslib\n",
            "mpslib: Reading: ti.dat_sg_2.gslib\n",
            "mpslib: Reading: ti.dat_sg_3.gslib\n"
          ]
        },
        {
          "output_type": "execute_result",
          "data": {
            "text/plain": [
              "True"
            ]
          },
          "metadata": {},
          "execution_count": 13
        }
      ],
      "source": [
        "O.ti = TI\n",
        "# Serial \n",
        "O.run()\n",
        "# Parallel\n",
        "#O.run_parallel()"
      ]
    },
    {
      "cell_type": "markdown",
      "metadata": {
        "id": "fymZDt74p_w8"
      },
      "source": [
        "## Plot realizations and E-types"
      ]
    },
    {
      "cell_type": "code",
      "execution_count": 8,
      "metadata": {
        "id": "-IPPsQdFlXVT",
        "outputId": "9dcb9aa8-0dac-4e79-8668-c7890589f7d7",
        "colab": {
          "base_uri": "https://localhost:8080/",
          "height": 389
        }
      },
      "outputs": [
        {
          "output_type": "error",
          "ename": "IndexError",
          "evalue": "ignored",
          "traceback": [
            "\u001b[0;31m---------------------------------------------------------------------------\u001b[0m",
            "\u001b[0;31mIndexError\u001b[0m                                Traceback (most recent call last)",
            "\u001b[0;32m<ipython-input-8-a05d1f04b99a>\u001b[0m in \u001b[0;36m<module>\u001b[0;34m()\u001b[0m\n\u001b[0;32m----> 1\u001b[0;31m \u001b[0mO\u001b[0m\u001b[0;34m.\u001b[0m\u001b[0mplot_reals\u001b[0m\u001b[0;34m(\u001b[0m\u001b[0;34m)\u001b[0m\u001b[0;34m\u001b[0m\u001b[0;34m\u001b[0m\u001b[0m\n\u001b[0m\u001b[1;32m      2\u001b[0m \u001b[0mO\u001b[0m\u001b[0;34m.\u001b[0m\u001b[0mplot_etype\u001b[0m\u001b[0;34m(\u001b[0m\u001b[0;34m)\u001b[0m\u001b[0;34m\u001b[0m\u001b[0;34m\u001b[0m\u001b[0m\n",
            "\u001b[0;32m/usr/local/lib/python3.7/dist-packages/mpslib/mpslib.py\u001b[0m in \u001b[0;36mplot_reals\u001b[0;34m(self, nr, hardcopy, hardcopy_filename, nanval, filternan)\u001b[0m\n\u001b[1;32m    862\u001b[0m             \u001b[0mfig\u001b[0m\u001b[0;34m.\u001b[0m\u001b[0madd_subplot\u001b[0m\u001b[0;34m(\u001b[0m\u001b[0max1\u001b[0m\u001b[0;34m)\u001b[0m\u001b[0;34m\u001b[0m\u001b[0;34m\u001b[0m\u001b[0m\n\u001b[1;32m    863\u001b[0m             \u001b[0;32mif\u001b[0m \u001b[0mfilternan\u001b[0m \u001b[0;34m==\u001b[0m \u001b[0;36m1\u001b[0m\u001b[0;34m:\u001b[0m\u001b[0;34m\u001b[0m\u001b[0;34m\u001b[0m\u001b[0m\n\u001b[0;32m--> 864\u001b[0;31m                 \u001b[0mself\u001b[0m\u001b[0;34m.\u001b[0m\u001b[0msim\u001b[0m\u001b[0;34m[\u001b[0m\u001b[0mi\u001b[0m\u001b[0;34m]\u001b[0m\u001b[0;34m[\u001b[0m\u001b[0mself\u001b[0m\u001b[0;34m.\u001b[0m\u001b[0msim\u001b[0m\u001b[0;34m[\u001b[0m\u001b[0mi\u001b[0m\u001b[0;34m]\u001b[0m\u001b[0;34m==\u001b[0m\u001b[0mnanval\u001b[0m\u001b[0;34m]\u001b[0m \u001b[0;34m=\u001b[0m \u001b[0mnp\u001b[0m\u001b[0;34m.\u001b[0m\u001b[0mnan\u001b[0m\u001b[0;34m\u001b[0m\u001b[0;34m\u001b[0m\u001b[0m\n\u001b[0m\u001b[1;32m    865\u001b[0m \u001b[0;34m\u001b[0m\u001b[0m\n\u001b[1;32m    866\u001b[0m             \u001b[0mD\u001b[0m\u001b[0;34m=\u001b[0m\u001b[0msqueeze\u001b[0m\u001b[0;34m(\u001b[0m\u001b[0mnp\u001b[0m\u001b[0;34m.\u001b[0m\u001b[0mtranspose\u001b[0m\u001b[0;34m(\u001b[0m\u001b[0mself\u001b[0m\u001b[0;34m.\u001b[0m\u001b[0msim\u001b[0m\u001b[0;34m[\u001b[0m\u001b[0mi\u001b[0m\u001b[0;34m]\u001b[0m\u001b[0;34m)\u001b[0m\u001b[0;34m)\u001b[0m\u001b[0;34m\u001b[0m\u001b[0;34m\u001b[0m\u001b[0m\n",
            "\u001b[0;31mIndexError\u001b[0m: list index out of range"
          ]
        },
        {
          "output_type": "display_data",
          "data": {
            "image/png": "[encoded data removed]",
            "text/plain": [
              "<Figure size 432x288 with 1 Axes>"
            ]
          },
          "metadata": {
            "needs_background": "light"
          }
        }
      ],
      "source": [
        "O.plot_reals()\n",
        "O.plot_etype()"
      ]
    },
    {
      "cell_type": "code",
      "execution_count": 103,
      "metadata": {
        "id": "aQHONzDolXVT",
        "outputId": "64e9b107-1320-44f4-ff8f-7eca77d719ca",
        "colab": {
          "base_uri": "https://localhost:8080/"
        }
      },
      "outputs": [
        {
          "output_type": "stream",
          "name": "stdout",
          "text": [
            "mpslib: writing SNESIM type parameter file: mps.txt\n",
            "mpslib: trying to run 'mps_snesim_tree' on 'mps.txt' in folder '/usr/local/lib/python3.7/mps_snesim_tree'\n",
            "mpslib: Using the following executable to run the model: /usr/local/lib/python3.7/mps_snesim_tree\n",
            "mpslib: trying to run  /usr/local/lib/python3.7/mps_snesim_tree mps.txt\n",
            "mpslib: 'mps_snesim_tree' ran in  105.58s \n",
            "mpslib: Reading: ti.dat_sg_0.gslib\n",
            "loading entropy from ti.dat_ent_0.gslib\n",
            "loading entropy from ti.dat_cg_0.gslib\n",
            "loading entropy from ti.dat_cg_1.gslib\n"
          ]
        },
        {
          "output_type": "execute_result",
          "data": {
            "text/plain": [
              "True"
            ]
          },
          "metadata": {},
          "execution_count": 103
        }
      ],
      "source": [
        "O.par['do_entropy']=1\n",
        "O.par['do_estimation']=1\n",
        "O.par['n_real']=1\n",
        "O.run()"
      ]
    },
    {
      "cell_type": "code",
      "source": [
        "'''\n",
        "mpslib_estimation:\n",
        "Estimation vs simulation\n",
        "'''\n",
        "import mpslib as mps\n",
        "import matplotlib.pyplot as plt\n",
        "import numpy as np\n",
        "import copy\n",
        "\n",
        "plt.ion()\n",
        "\n",
        "#%% Initialize the MPS object, using a specific algorithm (def='mps_snesim_tree')\n",
        "O=mps.mpslib(method='mps_genesim', verbose_level=1)\n",
        "\n",
        "#%% Select number of iterations [def=1]\n",
        "O.par['n_real']=500\n",
        "O.par['n_cond']=3\n",
        "O.par['simulation_grid_size'][0]=100\n",
        "O.par['simulation_grid_size'][1]=100\n",
        "O.par['simulation_grid_size'][2]=1\n",
        "O.par['hard_data_fnam']='hard.dat'\n",
        "#%% Use hard data\n",
        "# Set hard data\n",
        "d_hard = np.array([[ 3, 3, 0, 1],\n",
        "                    [ 8, 8, 0, 1],\n",
        "                    [ 12, 3, 0, 1]])\n",
        "    \n",
        "\n",
        "O.d_hard = d_hard\n",
        "# Set training image\n",
        "O.ti = mps.trainingimages.strebelle(di=2, coarse3d=1)[0]\n",
        "#O.plot_ti()\n",
        "\n",
        "\n",
        "#%% Run MPSlib in Estimation mode\n",
        "O_est = copy.deepcopy(O)\n",
        "O_est.parameter_filename='mps_est.txt'\n",
        "O_est.delete_local_files() # to make sure no old data are floating around\n",
        "O_est.par['do_estimation']=1\n",
        "O_est.par['do_entropy']=1\n",
        "\n",
        "O_est.par['n_real']=1\n",
        "O_est.par['n_max_cpdf_count']=1000000 # We need ENESIM/GENESIM and not DS\n",
        "O_est.par['n_max_ite']=1000000\n",
        "O_est.remove_gslib_after_simulation=0\n",
        "\n",
        "O_est.run()\n",
        "\n",
        "D_est = mps.eas.read('ti.dat_cg_1.gslib')\n",
        "P1=D_est['Dmat'][:,:,0]\n",
        "P1=P1.transpose()\n",
        "\n",
        "\n",
        "D_ent = mps.eas.read('ti.dat_ent_0.gslib')\n",
        "H=D_ent['Dmat'][:,:,0]\n",
        "H=H.transpose()\n",
        "\n",
        "plt.figure(figsize=(16,9))\n",
        "plt.imshow(P1, cmap='gray')\n",
        "plt.show()"
      ],
      "metadata": {
        "colab": {
          "base_uri": "https://localhost:8080/",
          "height": 713
        },
        "id": "NHwuR6BzdF7Z",
        "outputId": "f9e76980-6b1c-4017-a6eb-c425a17633c8"
      },
      "execution_count": 2,
      "outputs": [
        {
          "output_type": "stream",
          "name": "stdout",
          "text": [
            "Using MPSlib installed in /usr/local/lib/python3.7 (from /usr/local/lib/python3.7/dist-packages/mpslib/mpslib.py)\n",
            "mpslib: Writing GENESIM type parameter file: mps_est.txt\n",
            "mpslib: trying to run 'mps_genesim' on 'mps_est.txt' in folder '/usr/local/lib/python3.7/mps_genesim'\n",
            "mpslib: Using the following executable to run the model: /usr/local/lib/python3.7/mps_genesim\n",
            "mpslib: trying to run  /usr/local/lib/python3.7/mps_genesim mps_est.txt\n",
            "mpslib: 'mps_genesim' ran in  222.34s \n",
            "mpslib: Reading: ti.dat_sg_0.gslib\n",
            "loading entropy from ti.dat_ent_0.gslib\n",
            "loading entropy from ti.dat_cg_0.gslib\n",
            "loading entropy from ti.dat_cg_1.gslib\n"
          ]
        },
        {
          "output_type": "display_data",
          "data": {
            "image/png": "[encoded data removed]",
            "text/plain": [
              "<Figure size 1152x648 with 1 Axes>"
            ]
          },
          "metadata": {
            "needs_background": "light"
          }
        }
      ]
    },
    {
      "cell_type": "code",
      "source": [
        ""
      ],
      "metadata": {
        "id": "F5WegiVv_JwM"
      },
      "execution_count": null,
      "outputs": []
    }
  ],
  "metadata": {
    "colab": {
      "collapsed_sections": [
        "KQ2jquxS0Ebo"
      ],
      "name": "mpslib_test",
      "provenance": []
    },
    "kernelspec": {
      "display_name": "tf",
      "language": "python",
      "name": "myenv"
    },
    "language_info": {
      "codemirror_mode": {
        "name": "ipython",
        "version": 3
      },
      "file_extension": ".py",
      "mimetype": "text/x-python",
      "name": "python",
      "nbconvert_exporter": "python",
      "pygments_lexer": "ipython3",
      "version": "3.8.5"
    }
  },
  "nbformat": 4,
  "nbformat_minor": 0
}